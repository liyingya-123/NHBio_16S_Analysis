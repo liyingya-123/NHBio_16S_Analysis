{
 "cells": [
  {
   "cell_type": "markdown",
   "metadata": {},
   "source": [
    "# 导入第三方库"
   ]
  },
  {
   "cell_type": "code",
   "execution_count": 2,
   "metadata": {},
   "outputs": [],
   "source": [
    "import pandas as pd\n",
    "from sklearn.metrics import roc_curve, auc\n",
    "import matplotlib.pyplot as plt\n",
    "import numpy as np\n",
    "from random import *\n",
    "from math import *\n",
    "from sklearn.ensemble import RandomForestClassifier\n",
    "from sklearn.model_selection import train_test_split\n",
    "from sklearn.model_selection import cross_val_score,GridSearchCV\n",
    "from sklearn import metrics\n",
    "from sklearn.metrics import classification_report\n",
    "from collections import Counter\n",
    "from itertools import cycle\n",
    "from sklearn import svm, datasets\n",
    "from sklearn.preprocessing import label_binarize\n",
    "from sklearn.multiclass import OneVsRestClassifier\n",
    "from scipy import interp\n",
    "import tensorflow as tf\n",
    "import matplotlib as mpl\n",
    "import seaborn as sns"
   ]
  },
  {
   "cell_type": "markdown",
   "metadata": {},
   "source": [
    "# 数据输入和准备"
   ]
  },
  {
   "cell_type": "code",
   "execution_count": 3,
   "metadata": {},
   "outputs": [],
   "source": [
    "df=pd.read_csv(\"otu-0422.tsv\",sep=\"\\t\")\n",
    "sample_list=list(df.groupby(df[\"sample\"]))\n",
    "\n",
    "# 读取文件\n",
    "def df_trans(my_tumple):\n",
    "    return pd.DataFrame(my_tumple[1][['reads']].values.T,index=[my_tumple[0]],columns=my_tumple[1]['otu'].tolist())"
   ]
  },
  {
   "cell_type": "code",
   "execution_count": 4,
   "metadata": {},
   "outputs": [
    {
     "ename": "NameError",
     "evalue": "name 'otu' is not defined",
     "output_type": "error",
     "traceback": [
      "\u001b[1;31m---------------------------------------------------------------------------\u001b[0m",
      "\u001b[1;31mNameError\u001b[0m                                 Traceback (most recent call last)",
      "\u001b[1;32m<ipython-input-4-810fcf36f196>\u001b[0m in \u001b[0;36m<module>\u001b[1;34m\u001b[0m\n\u001b[1;32m----> 1\u001b[1;33m \u001b[0motu\u001b[0m\u001b[1;33m\u001b[0m\u001b[1;33m\u001b[0m\u001b[0m\n\u001b[0m",
      "\u001b[1;31mNameError\u001b[0m: name 'otu' is not defined"
     ]
    }
   ],
   "source": [
    "otu"
   ]
  },
  {
   "cell_type": "code",
   "execution_count": 14,
   "metadata": {},
   "outputs": [
    {
     "data": {
      "text/html": [
       "<div>\n",
       "<style scoped>\n",
       "    .dataframe tbody tr th:only-of-type {\n",
       "        vertical-align: middle;\n",
       "    }\n",
       "\n",
       "    .dataframe tbody tr th {\n",
       "        vertical-align: top;\n",
       "    }\n",
       "\n",
       "    .dataframe thead th {\n",
       "        text-align: right;\n",
       "    }\n",
       "</style>\n",
       "<table border=\"1\" class=\"dataframe\">\n",
       "  <thead>\n",
       "    <tr style=\"text-align: right;\">\n",
       "      <th></th>\n",
       "      <th>Otu2</th>\n",
       "      <th>Otu114</th>\n",
       "      <th>Otu39</th>\n",
       "      <th>Otu4</th>\n",
       "      <th>Otu19</th>\n",
       "      <th>Otu26</th>\n",
       "      <th>Otu80</th>\n",
       "      <th>Otu15</th>\n",
       "      <th>Otu125</th>\n",
       "      <th>Otu17</th>\n",
       "      <th>...</th>\n",
       "      <th>Otu4328</th>\n",
       "      <th>Otu3846</th>\n",
       "      <th>Otu2194</th>\n",
       "      <th>Otu4483</th>\n",
       "      <th>Otu5388</th>\n",
       "      <th>Otu5569</th>\n",
       "      <th>Otu3074</th>\n",
       "      <th>Otu3845</th>\n",
       "      <th>Otu2754</th>\n",
       "      <th>type</th>\n",
       "    </tr>\n",
       "  </thead>\n",
       "  <tbody>\n",
       "    <tr>\n",
       "      <th>NH10</th>\n",
       "      <td>8385</td>\n",
       "      <td>2514</td>\n",
       "      <td>2591</td>\n",
       "      <td>2681</td>\n",
       "      <td>594</td>\n",
       "      <td>1348</td>\n",
       "      <td>848</td>\n",
       "      <td>2674</td>\n",
       "      <td>11</td>\n",
       "      <td>5378</td>\n",
       "      <td>...</td>\n",
       "      <td>0</td>\n",
       "      <td>0</td>\n",
       "      <td>0</td>\n",
       "      <td>0</td>\n",
       "      <td>0</td>\n",
       "      <td>0</td>\n",
       "      <td>0</td>\n",
       "      <td>0</td>\n",
       "      <td>0</td>\n",
       "      <td>fjz</td>\n",
       "    </tr>\n",
       "    <tr>\n",
       "      <th>NH100</th>\n",
       "      <td>531</td>\n",
       "      <td>1</td>\n",
       "      <td>1</td>\n",
       "      <td>23</td>\n",
       "      <td>0</td>\n",
       "      <td>1768</td>\n",
       "      <td>0</td>\n",
       "      <td>173</td>\n",
       "      <td>0</td>\n",
       "      <td>597</td>\n",
       "      <td>...</td>\n",
       "      <td>0</td>\n",
       "      <td>0</td>\n",
       "      <td>0</td>\n",
       "      <td>0</td>\n",
       "      <td>0</td>\n",
       "      <td>0</td>\n",
       "      <td>0</td>\n",
       "      <td>0</td>\n",
       "      <td>0</td>\n",
       "      <td>cr</td>\n",
       "    </tr>\n",
       "    <tr>\n",
       "      <th>NH107</th>\n",
       "      <td>5287</td>\n",
       "      <td>5</td>\n",
       "      <td>0</td>\n",
       "      <td>12</td>\n",
       "      <td>0</td>\n",
       "      <td>1003</td>\n",
       "      <td>0</td>\n",
       "      <td>15</td>\n",
       "      <td>0</td>\n",
       "      <td>1020</td>\n",
       "      <td>...</td>\n",
       "      <td>0</td>\n",
       "      <td>0</td>\n",
       "      <td>0</td>\n",
       "      <td>0</td>\n",
       "      <td>0</td>\n",
       "      <td>0</td>\n",
       "      <td>0</td>\n",
       "      <td>0</td>\n",
       "      <td>0</td>\n",
       "      <td>jk</td>\n",
       "    </tr>\n",
       "    <tr>\n",
       "      <th>NH11</th>\n",
       "      <td>10207</td>\n",
       "      <td>0</td>\n",
       "      <td>0</td>\n",
       "      <td>9</td>\n",
       "      <td>7</td>\n",
       "      <td>0</td>\n",
       "      <td>1</td>\n",
       "      <td>832</td>\n",
       "      <td>25</td>\n",
       "      <td>19</td>\n",
       "      <td>...</td>\n",
       "      <td>0</td>\n",
       "      <td>0</td>\n",
       "      <td>0</td>\n",
       "      <td>0</td>\n",
       "      <td>0</td>\n",
       "      <td>0</td>\n",
       "      <td>0</td>\n",
       "      <td>0</td>\n",
       "      <td>0</td>\n",
       "      <td>jk</td>\n",
       "    </tr>\n",
       "    <tr>\n",
       "      <th>NH110</th>\n",
       "      <td>968</td>\n",
       "      <td>1</td>\n",
       "      <td>0</td>\n",
       "      <td>551</td>\n",
       "      <td>30</td>\n",
       "      <td>9</td>\n",
       "      <td>0</td>\n",
       "      <td>9</td>\n",
       "      <td>0</td>\n",
       "      <td>6</td>\n",
       "      <td>...</td>\n",
       "      <td>0</td>\n",
       "      <td>0</td>\n",
       "      <td>0</td>\n",
       "      <td>0</td>\n",
       "      <td>0</td>\n",
       "      <td>0</td>\n",
       "      <td>0</td>\n",
       "      <td>0</td>\n",
       "      <td>0</td>\n",
       "      <td>jz</td>\n",
       "    </tr>\n",
       "    <tr>\n",
       "      <th>...</th>\n",
       "      <td>...</td>\n",
       "      <td>...</td>\n",
       "      <td>...</td>\n",
       "      <td>...</td>\n",
       "      <td>...</td>\n",
       "      <td>...</td>\n",
       "      <td>...</td>\n",
       "      <td>...</td>\n",
       "      <td>...</td>\n",
       "      <td>...</td>\n",
       "      <td>...</td>\n",
       "      <td>...</td>\n",
       "      <td>...</td>\n",
       "      <td>...</td>\n",
       "      <td>...</td>\n",
       "      <td>...</td>\n",
       "      <td>...</td>\n",
       "      <td>...</td>\n",
       "      <td>...</td>\n",
       "      <td>...</td>\n",
       "      <td>...</td>\n",
       "    </tr>\n",
       "    <tr>\n",
       "      <th>NH93</th>\n",
       "      <td>7</td>\n",
       "      <td>0</td>\n",
       "      <td>0</td>\n",
       "      <td>1613</td>\n",
       "      <td>52</td>\n",
       "      <td>0</td>\n",
       "      <td>0</td>\n",
       "      <td>0</td>\n",
       "      <td>0</td>\n",
       "      <td>0</td>\n",
       "      <td>...</td>\n",
       "      <td>0</td>\n",
       "      <td>0</td>\n",
       "      <td>0</td>\n",
       "      <td>0</td>\n",
       "      <td>0</td>\n",
       "      <td>0</td>\n",
       "      <td>0</td>\n",
       "      <td>0</td>\n",
       "      <td>0</td>\n",
       "      <td>cr</td>\n",
       "    </tr>\n",
       "    <tr>\n",
       "      <th>NH94</th>\n",
       "      <td>3269</td>\n",
       "      <td>0</td>\n",
       "      <td>0</td>\n",
       "      <td>1495</td>\n",
       "      <td>109</td>\n",
       "      <td>1339</td>\n",
       "      <td>0</td>\n",
       "      <td>666</td>\n",
       "      <td>999</td>\n",
       "      <td>2275</td>\n",
       "      <td>...</td>\n",
       "      <td>0</td>\n",
       "      <td>0</td>\n",
       "      <td>0</td>\n",
       "      <td>0</td>\n",
       "      <td>0</td>\n",
       "      <td>0</td>\n",
       "      <td>0</td>\n",
       "      <td>0</td>\n",
       "      <td>0</td>\n",
       "      <td>fjz</td>\n",
       "    </tr>\n",
       "    <tr>\n",
       "      <th>NH95</th>\n",
       "      <td>14754</td>\n",
       "      <td>0</td>\n",
       "      <td>0</td>\n",
       "      <td>779</td>\n",
       "      <td>251</td>\n",
       "      <td>2323</td>\n",
       "      <td>0</td>\n",
       "      <td>65</td>\n",
       "      <td>0</td>\n",
       "      <td>2421</td>\n",
       "      <td>...</td>\n",
       "      <td>0</td>\n",
       "      <td>0</td>\n",
       "      <td>0</td>\n",
       "      <td>0</td>\n",
       "      <td>0</td>\n",
       "      <td>0</td>\n",
       "      <td>0</td>\n",
       "      <td>0</td>\n",
       "      <td>0</td>\n",
       "      <td>cr</td>\n",
       "    </tr>\n",
       "    <tr>\n",
       "      <th>NH98</th>\n",
       "      <td>3106</td>\n",
       "      <td>778</td>\n",
       "      <td>3</td>\n",
       "      <td>2588</td>\n",
       "      <td>3167</td>\n",
       "      <td>272</td>\n",
       "      <td>7</td>\n",
       "      <td>14</td>\n",
       "      <td>16</td>\n",
       "      <td>713</td>\n",
       "      <td>...</td>\n",
       "      <td>1</td>\n",
       "      <td>3</td>\n",
       "      <td>4</td>\n",
       "      <td>6</td>\n",
       "      <td>1</td>\n",
       "      <td>1</td>\n",
       "      <td>1</td>\n",
       "      <td>0</td>\n",
       "      <td>0</td>\n",
       "      <td>jz</td>\n",
       "    </tr>\n",
       "    <tr>\n",
       "      <th>NH99</th>\n",
       "      <td>27448</td>\n",
       "      <td>0</td>\n",
       "      <td>0</td>\n",
       "      <td>2</td>\n",
       "      <td>3350</td>\n",
       "      <td>800</td>\n",
       "      <td>0</td>\n",
       "      <td>63</td>\n",
       "      <td>0</td>\n",
       "      <td>758</td>\n",
       "      <td>...</td>\n",
       "      <td>0</td>\n",
       "      <td>0</td>\n",
       "      <td>0</td>\n",
       "      <td>0</td>\n",
       "      <td>0</td>\n",
       "      <td>0</td>\n",
       "      <td>0</td>\n",
       "      <td>8</td>\n",
       "      <td>4</td>\n",
       "      <td>fjz</td>\n",
       "    </tr>\n",
       "  </tbody>\n",
       "</table>\n",
       "<p>108 rows × 3698 columns</p>\n",
       "</div>"
      ],
      "text/plain": [
       "        Otu2  Otu114  Otu39  Otu4  Otu19  Otu26  Otu80  Otu15  Otu125  Otu17  \\\n",
       "NH10    8385    2514   2591  2681    594   1348    848   2674      11   5378   \n",
       "NH100    531       1      1    23      0   1768      0    173       0    597   \n",
       "NH107   5287       5      0    12      0   1003      0     15       0   1020   \n",
       "NH11   10207       0      0     9      7      0      1    832      25     19   \n",
       "NH110    968       1      0   551     30      9      0      9       0      6   \n",
       "...      ...     ...    ...   ...    ...    ...    ...    ...     ...    ...   \n",
       "NH93       7       0      0  1613     52      0      0      0       0      0   \n",
       "NH94    3269       0      0  1495    109   1339      0    666     999   2275   \n",
       "NH95   14754       0      0   779    251   2323      0     65       0   2421   \n",
       "NH98    3106     778      3  2588   3167    272      7     14      16    713   \n",
       "NH99   27448       0      0     2   3350    800      0     63       0    758   \n",
       "\n",
       "       ...  Otu4328  Otu3846  Otu2194  Otu4483  Otu5388  Otu5569  Otu3074  \\\n",
       "NH10   ...        0        0        0        0        0        0        0   \n",
       "NH100  ...        0        0        0        0        0        0        0   \n",
       "NH107  ...        0        0        0        0        0        0        0   \n",
       "NH11   ...        0        0        0        0        0        0        0   \n",
       "NH110  ...        0        0        0        0        0        0        0   \n",
       "...    ...      ...      ...      ...      ...      ...      ...      ...   \n",
       "NH93   ...        0        0        0        0        0        0        0   \n",
       "NH94   ...        0        0        0        0        0        0        0   \n",
       "NH95   ...        0        0        0        0        0        0        0   \n",
       "NH98   ...        1        3        4        6        1        1        1   \n",
       "NH99   ...        0        0        0        0        0        0        0   \n",
       "\n",
       "       Otu3845  Otu2754  type  \n",
       "NH10         0        0   fjz  \n",
       "NH100        0        0    cr  \n",
       "NH107        0        0    jk  \n",
       "NH11         0        0    jk  \n",
       "NH110        0        0    jz  \n",
       "...        ...      ...   ...  \n",
       "NH93         0        0    cr  \n",
       "NH94         0        0   fjz  \n",
       "NH95         0        0    cr  \n",
       "NH98         0        0    jz  \n",
       "NH99         8        4   fjz  \n",
       "\n",
       "[108 rows x 3698 columns]"
      ]
     },
     "execution_count": 14,
     "metadata": {},
     "output_type": "execute_result"
    }
   ],
   "source": [
    "# otu=pd.concat(map(df_trans,sample_list))\n",
    "# otu.fillna(0, inplace=True)\n",
    "# otu=otu.astype(int)\n",
    "label=pd.read_csv(\"otu-0422type.txt\",sep=\"\\t\",index_col=0)\n",
    "otu_label=pd.concat([otu,label], axis=1,join='inner')\n",
    "otu_label"
   ]
  },
  {
   "cell_type": "code",
   "execution_count": 18,
   "metadata": {},
   "outputs": [],
   "source": [
    "otu_label.to_csv(\"otu_108.csv\",index=1)"
   ]
  },
  {
   "cell_type": "code",
   "execution_count": 4,
   "metadata": {},
   "outputs": [],
   "source": [
    "##-------------------定义特征筛选函数1-----------------\n",
    "def filter(otu,thread):\n",
    "    n = len(otu)\n",
    "    columns = otu.columns\n",
    "    for col in columns:\n",
    "        more_thread = round(len(otu.loc[otu[col]>thread,col])/n,2)*100\n",
    "        if more_thread < 10:\n",
    "            otu.drop(col,axis=1,inplace=True)\n",
    "    return otu\n",
    "otu_filter = otu\n",
    "otu_filter = filter(otu_filter,10)"
   ]
  },
  {
   "cell_type": "code",
   "execution_count": 5,
   "metadata": {},
   "outputs": [],
   "source": [
    "##-------------------定义特征筛选函数2-----------------\n",
    "# def filter(otu,thread):\n",
    "#     n = len(otu)\n",
    "#     columns = otu.columns\n",
    "#     for col in columns:\n",
    "#         more_thread = round(len(otu.loc[otu[col]>thread,col])/n,2)*100\n",
    "#         if more_thread < 10:\n",
    "#             otu.drop(col,axis=1,inplace=True)\n",
    "#         elif more_thread < 20:\n",
    "#             otu.loc[otu[col]>thread,col]==0\n",
    "#     return otu\n",
    "# otu_filter = otu\n",
    "# otu_filter = filter(otu_filter,10)"
   ]
  },
  {
   "cell_type": "markdown",
   "metadata": {},
   "source": [
    "# 数据基本描述统计"
   ]
  },
  {
   "cell_type": "code",
   "execution_count": 5,
   "metadata": {},
   "outputs": [
    {
     "name": "stdout",
     "output_type": "stream",
     "text": [
      "Number of features: 562\n",
      "string variable: 1\n",
      " <=300 unique number: 492 \n",
      " >300 unique number: 69\n",
      "\n"
     ]
    },
    {
     "data": {
      "image/png": "[encoded data removed]",
      "text/plain": [
       "<Figure size 432x288 with 1 Axes>"
      ]
     },
     "metadata": {
      "needs_background": "light"
     },
     "output_type": "display_data"
    }
   ],
   "source": [
    "##-------------------所有数据的基本描述统计--------------------\n",
    "##样本类别的统计和描述\n",
    "otu_label[\"label\"].describe()\n",
    "values = otu_label[\"label\"]\n",
    "value_cnt = {}  # 将结果用一个字典存储\n",
    "# 统计结果\n",
    "for value in values:\n",
    "    # get(value, num)函数的作用是获取字典中value对应的键值, num=0指示初始值大小。\n",
    "    value_cnt[value] = value_cnt.get(value, 0) + 1\n",
    "# 打印输出结果\n",
    "# print(value_cnt)\n",
    "\n",
    "##特征筛选和描述统计\n",
    "otu_label=pd.concat([label, otu_filter], axis=1)\n",
    "\n",
    "cols = [c for c in otu_label.columns]   #返回数据的列名到列表里\n",
    "print('Number of features: {}'.format(len(cols)))\n",
    "\n",
    "##查看特征的数值范围\n",
    "feature_numbers = [[],[],[]]\n",
    "counts = [[], [], []]\n",
    "for c in cols:\n",
    "    typ = otu_label[c].dtype\n",
    "    uniq = len(np.unique(otu_label[c]))         \n",
    "    if uniq == 5 and typ == np.object:                                      \n",
    "        counts[0].append(c)\n",
    "        feature_numbers[0].append(uniq)\n",
    "    elif uniq <= 300 and  typ == np.int32 :  \n",
    "        counts[1].append(c)\n",
    "        feature_numbers[1].append(uniq)\n",
    "    else:\n",
    "        counts[2].append(c)\n",
    "        feature_numbers[2].append(uniq)\n",
    "    \n",
    "plt.hist(feature_numbers[1])\n",
    "plt.hist(feature_numbers[2])\n",
    "plt.xlabel(\"Unique number\")\n",
    "plt.ylabel(\"Counts\")\n",
    "plt.suptitle(\"Raw data distribution\")\n",
    "\n",
    "print('string variable: {}\\n <=300 unique number: {} \\n >300 unique number: {}\\n'.format(*[len(c) for c in counts]))\n",
    "# print('string variables:', counts[0])\n",
    "# print('<=300 unique number:', counts[1])\n",
    "# print('>300 unique number:', counts[2])"
   ]
  },
  {
   "cell_type": "markdown",
   "metadata": {},
   "source": [
    "# 训练集和测试集划分"
   ]
  },
  {
   "cell_type": "code",
   "execution_count": 27,
   "metadata": {},
   "outputs": [],
   "source": [
    "##---------训练集和测试集划分---------未考虑测序批次\n",
    "#train\n",
    "otu_label = pd.read_csv(\"otutab_norm.csv\",header=0)\n",
    "X=otu_label.drop(['label',\"sample\"], axis=1)# Features\n",
    "y=otu_label['label']\n",
    "# otu_label.to_csv(\"otutab_norm.csv\",index=1)\n",
    "X_train, X_test, y_train, y_test = train_test_split(X, y, test_size=0.2,random_state=2050,shuffle=True)"
   ]
  },
  {
   "cell_type": "code",
   "execution_count": 16,
   "metadata": {},
   "outputs": [],
   "source": [
    "##---------训练集和测试集划分---------考虑测序批次\n",
    "# X=otu_label.drop(['label'], axis=1)# Features\n",
    "# y=otu_label['label']\n",
    "# batch1=pd.read_table(\"batch1.txt\",header=None)\n",
    "# batch2=pd.read_table('batch2.2.txt',header=None)\n",
    "\n",
    "# otu_label_batch1=otu_label[otu_label.index.isin(list(batch1[0]))] ##按照列名进行匹配\n",
    "# otu_label_batch2=otu_label[otu_label.index.isin(list(batch2[0]))]\n",
    "# X_test = otu_label_batch2.drop(['label'], axis=1)# Features\n",
    "# y_test = otu_label_batch2['label']\n",
    "# X_train = otu_label_batch1.drop(['label'], axis=1)# Features\n",
    "# y_train = otu_label_batch1['label']\n",
    "# X_test.head()\n",
    "# X_test._stat_axis.values.tolist() ##row names\n",
    "#X_train.to_csv('X_train.csv',index=1)\n",
    "#X_test.to_csv('X_test.csv',index=1)"
   ]
  },
  {
   "cell_type": "markdown",
   "metadata": {},
   "source": [
    "## 模型构建及参数调优 "
   ]
  },
  {
   "cell_type": "markdown",
   "metadata": {},
   "source": [
    "模型一：随机森林"
   ]
  },
  {
   "cell_type": "code",
   "execution_count": 11,
   "metadata": {},
   "outputs": [
    {
     "data": {
      "text/plain": [
       "GridSearchCV(cv=5, estimator=RandomForestClassifier(random_state=2050),\n",
       "             n_jobs=-1,\n",
       "             param_grid={'max_features': range(1, 20),\n",
       "                         'n_estimators': range(10, 500, 10)})"
      ]
     },
     "execution_count": 11,
     "metadata": {},
     "output_type": "execute_result"
    }
   ],
   "source": [
    "param = {\n",
    "    'n_estimators':range(10,500,10),\n",
    "    'max_features':range(1,20,1)\n",
    "}\n",
    "gsearch1 = GridSearchCV(estimator=RandomForestClassifier(random_state=2050),\n",
    "                        param_grid = param,\n",
    "                        cv=5,n_jobs=-1)\n",
    "gsearch1.fit(X_train,y_train)"
   ]
  },
  {
   "cell_type": "code",
   "execution_count": 12,
   "metadata": {},
   "outputs": [
    {
     "name": "stdout",
     "output_type": "stream",
     "text": [
      "best params:{'max_features': 17, 'n_estimators': 370}\n",
      "best accuracy:0.944921\n",
      "RandomForestClassifier(max_features=17, n_estimators=370, random_state=2050)\n"
     ]
    }
   ],
   "source": [
    "best_estimator = gsearch1.best_estimator_\n",
    "#best_estimator = RandomForestClassifier(max_features=8, n_estimators=750, random_state=2050)\n",
    "print(f'best params:{gsearch1.best_params_}')\n",
    "print('best accuracy:%f' % gsearch1.best_score_)\n",
    "print(best_estimator)"
   ]
  },
  {
   "cell_type": "code",
   "execution_count": 13,
   "metadata": {},
   "outputs": [
    {
     "name": "stdout",
     "output_type": "stream",
     "text": [
      "Accuracy: 0.94 (+/- 0.02)\n"
     ]
    }
   ],
   "source": [
    "#对训练集进行交叉验证\n",
    "scores = cross_val_score(best_estimator, X_train, y_train, cv=5)\n",
    "print(\"Accuracy: %0.2f (+/- %0.2f)\" % (scores.mean(), scores.std()*2))"
   ]
  },
  {
   "cell_type": "code",
   "execution_count": 14,
   "metadata": {},
   "outputs": [
    {
     "data": {
      "text/plain": [
       "array([0.93125   , 0.95      , 0.94375   , 0.9625    , 0.93710692])"
      ]
     },
     "execution_count": 14,
     "metadata": {},
     "output_type": "execute_result"
    }
   ],
   "source": [
    "scores"
   ]
  },
  {
   "cell_type": "code",
   "execution_count": 15,
   "metadata": {},
   "outputs": [
    {
     "name": "stdout",
     "output_type": "stream",
     "text": [
      "Accuracy: 0.905\n"
     ]
    }
   ],
   "source": [
    "#对测试集进行测试\n",
    "best_estimator.fit(X_train,y_train)\n",
    "#y_pred=best_estimator.predict_proba(X_test)\n",
    "y_pred=best_estimator.predict(X_test)\n",
    "print(\"Accuracy:\",metrics.accuracy_score(y_test, y_pred))"
   ]
  },
  {
   "cell_type": "code",
   "execution_count": 16,
   "metadata": {},
   "outputs": [
    {
     "data": {
      "text/plain": [
       "CR    163\n",
       "XR    162\n",
       "FJ    161\n",
       "JK    158\n",
       "JZ    155\n",
       "Name: label, dtype: int64"
      ]
     },
     "execution_count": 16,
     "metadata": {},
     "output_type": "execute_result"
    }
   ],
   "source": [
    "y_train.value_counts()"
   ]
  },
  {
   "cell_type": "code",
   "execution_count": 17,
   "metadata": {},
   "outputs": [
    {
     "data": {
      "text/plain": [
       "JZ    45\n",
       "JK    41\n",
       "FJ    39\n",
       "XR    38\n",
       "CR    37\n",
       "Name: label, dtype: int64"
      ]
     },
     "execution_count": 17,
     "metadata": {},
     "output_type": "execute_result"
    }
   ],
   "source": [
    "y_test.value_counts()"
   ]
  },
  {
   "cell_type": "code",
   "execution_count": 18,
   "metadata": {},
   "outputs": [],
   "source": [
    "y_test_pred=best_estimator.predict_proba(X_test)"
   ]
  },
  {
   "cell_type": "code",
   "execution_count": 23,
   "metadata": {},
   "outputs": [],
   "source": [
    "# nn = pd.DataFrame(pd.concat([pd.DataFrame(y_test_pred,columns=['CR','FJ','JK','JZ','XR']),\n",
    "#                              pd.DataFrame(y_test.values,columns=['True_label']),\n",
    "#                             pd.DataFrame(y_test._stat_axis.values.tolist(),columns=['Sample']),\n",
    "#                             pd.DataFrame(y_pred,columns=['Pred_label'])\n",
    "#                             ],axis=1))\n",
    "# nn.head()\n",
    "# nn.to_csv('y_test_pred.csv',index=0)"
   ]
  },
  {
   "cell_type": "code",
   "execution_count": 19,
   "metadata": {},
   "outputs": [],
   "source": [
    "alldata = pd.DataFrame(pd.concat([pd.DataFrame(y_test._stat_axis.values.tolist(),columns=['Sample']),\n",
    "                             pd.DataFrame(y_test.values,columns=['True_label']),\n",
    "                             pd.DataFrame(y_pred,columns=['Pred_label']),\n",
    "                             pd.DataFrame(np.array(X_test),columns=X_test.columns)\n",
    "                            ],axis=1))"
   ]
  },
  {
   "cell_type": "code",
   "execution_count": 25,
   "metadata": {},
   "outputs": [],
   "source": [
    "# alldata.to_csv('alldata.csv',index=0)"
   ]
  },
  {
   "cell_type": "code",
   "execution_count": 26,
   "metadata": {},
   "outputs": [],
   "source": [
    "# predict_probs = best_estimator.predict_proba(X)\n",
    "# all_probs = pd.concat([pd.DataFrame(X.index),pd.DataFrame(predict_probs,columns=['JK','JZ','CR'])],axis=1)\n",
    "# all_probs[:10].to_csv('all_probs_text.csv',index=0)"
   ]
  },
  {
   "cell_type": "code",
   "execution_count": 20,
   "metadata": {},
   "outputs": [
    {
     "data": {
      "text/plain": [
       "Otu527    0.013805\n",
       "Otu325    0.011295\n",
       "Otu511    0.010836\n",
       "Otu202    0.009924\n",
       "Otu87     0.009511\n",
       "            ...   \n",
       "Otu510    0.000534\n",
       "Otu633    0.000514\n",
       "Otu583    0.000483\n",
       "Otu421    0.000481\n",
       "Otu457    0.000432\n",
       "Length: 561, dtype: float64"
      ]
     },
     "execution_count": 20,
     "metadata": {},
     "output_type": "execute_result"
    }
   ],
   "source": [
    "importance = best_estimator.feature_importances_\n",
    "feature_imp = pd.Series(importance,index=X_train.columns).sort_values(ascending=False)\n",
    "feature_imp"
   ]
  },
  {
   "cell_type": "code",
   "execution_count": 21,
   "metadata": {},
   "outputs": [
    {
     "data": {
      "text/plain": [
       "Otu527    0.013805\n",
       "Otu325    0.011295\n",
       "Otu511    0.010836\n",
       "Otu202    0.009924\n",
       "Otu87     0.009511\n",
       "dtype: float64"
      ]
     },
     "execution_count": 21,
     "metadata": {},
     "output_type": "execute_result"
    }
   ],
   "source": [
    "filter_feature = feature_imp[feature_imp.values>0.002] \n",
    "filter_feature.index\n",
    "filter_feature.head()\n",
    "# filter_feature = feature_imp\n",
    "# filter_feature.to_csv('filter_feature.csv',index=1)\n",
    "filter_feature.head()"
   ]
  },
  {
   "cell_type": "code",
   "execution_count": 22,
   "metadata": {},
   "outputs": [
    {
     "data": {
      "image/png": "[encoded data removed]",
      "text/plain": [
       "<Figure size 1656x1080 with 1 Axes>"
      ]
     },
     "metadata": {
      "needs_background": "light"
     },
     "output_type": "display_data"
    }
   ],
   "source": [
    "# plot feature importance\n",
    "indices = np.argsort(filter_feature)\n",
    "selectn = filter_feature.shape[0]\n",
    "fig=plt.figure(figsize=(23,15))\n",
    "ax=fig.add_subplot(111)\n",
    "\n",
    "ax.barh(range(selectn),filter_feature[indices],facecolor='#FF6666', edgecolor='#FFFF00')\n",
    "ax.set_yticks(range(selectn))\n",
    "ax.set_yticklabels(indices[::-1].index)\n",
    "#ax.set_xlim(0, np.max(indices,)*1.1)\n",
    "ax.set_title('Feature Importance')\n",
    "plt.tight_layout()\n",
    "plt.show()"
   ]
  },
  {
   "cell_type": "markdown",
   "metadata": {},
   "source": [
    "模型二: Softmax函数做多分类问题-Logistic函数的推广"
   ]
  },
  {
   "cell_type": "code",
   "execution_count": 241,
   "metadata": {},
   "outputs": [
    {
     "data": {
      "text/plain": [
       "<seaborn.axisgrid.PairGrid at 0x1ddefef3eb0>"
      ]
     },
     "execution_count": 241,
     "metadata": {},
     "output_type": "execute_result"
    },
    {
     "data": {
      "image/png": "[encoded data removed]",
      "text/plain": [
       "<Figure size 942.375x900 with 30 Axes>"
      ]
     },
     "metadata": {
      "needs_background": "light"
     },
     "output_type": "display_data"
    }
   ],
   "source": [
    "# 可视化数据\n",
    "data = pd.DataFrame(otu_label[[\"label\",\"Otu527\",\"Otu325\",\"Otu511\",\"Otu202\",\"Otu87\"]])\n",
    "sns.pairplot(data,hue=\"label\")"
   ]
  },
  {
   "cell_type": "code",
   "execution_count": 255,
   "metadata": {},
   "outputs": [
    {
     "name": "stdout",
     "output_type": "stream",
     "text": [
      "[[40  1]\n",
      " [13 24]]\n",
      "              precision    recall  f1-score   support\n",
      "\n",
      "         0.0       0.75      0.98      0.85        41\n",
      "         1.0       0.96      0.65      0.77        37\n",
      "\n",
      "    accuracy                           0.82        78\n",
      "   macro avg       0.86      0.81      0.81        78\n",
      "weighted avg       0.85      0.82      0.81        78\n",
      "\n"
     ]
    },
    {
     "name": "stderr",
     "output_type": "stream",
     "text": [
      "E:\\anaconda3\\envs\\tensorflow20\\lib\\site-packages\\sklearn\\utils\\validation.py:72: DataConversionWarning: A column-vector y was passed when a 1d array was expected. Please change the shape of y to (n_samples, ), for example using ravel().\n",
      "  return f(**kwargs)\n"
     ]
    }
   ],
   "source": [
    "# sklearn包做逻辑回归-----二分类问题\n",
    "from sklearn.linear_model import LogisticRegression\n",
    "log_model = LogisticRegression()\n",
    "# 训练逻辑回归模型\n",
    "log_model.fit(xtrain_data, ytrain_index)\n",
    "# 预测y的值\n",
    "y_pred = log_model.predict(xtest_data)\n",
    "# y_pred = log_model.predict(xtrain_data)\n",
    "# 查看测试结果\n",
    "print(metrics.confusion_matrix(ytest_index, y_pred))\n",
    "print(metrics.classification_report(ytest_index, y_pred))\n",
    "\n",
    "# print(metrics.confusion_matrix(ytrain_index, y_pred))\n",
    "# print(metrics.classification_report(ytrain_index, y_pred))"
   ]
  },
  {
   "cell_type": "code",
   "execution_count": 248,
   "metadata": {},
   "outputs": [
    {
     "name": "stdout",
     "output_type": "stream",
     "text": [
      "[[10  6 20  3  2]\n",
      " [ 5  2 26  3  2]\n",
      " [ 2  0 36  1  0]\n",
      " [ 6  0 28  5  6]\n",
      " [ 0  0  0  1 36]]\n",
      "              precision    recall  f1-score   support\n",
      "\n",
      "           0       0.43      0.24      0.31        41\n",
      "           1       0.25      0.05      0.09        38\n",
      "           2       0.33      0.92      0.48        39\n",
      "           3       0.38      0.11      0.17        45\n",
      "           4       0.78      0.97      0.87        37\n",
      "\n",
      "    accuracy                           0.45       200\n",
      "   macro avg       0.44      0.46      0.38       200\n",
      "weighted avg       0.43      0.45      0.37       200\n",
      "\n"
     ]
    }
   ],
   "source": [
    "# sklearn包做逻辑回归-----五分类问题\n",
    "from sklearn.preprocessing import StandardScaler\n",
    "from sklearn.linear_model import LogisticRegression\n",
    "from sklearn.metrics import accuracy_score\n",
    "\n",
    "std = StandardScaler()\n",
    "x_train = std.fit_transform(xtrain_data)\n",
    "x_test = std.fit_transform(xtest_data)\n",
    "#训练模型\n",
    "model = LogisticRegression(penalty='l2',C=1,)\n",
    "model.fit(x_train,Y_train)\n",
    "y_pred = model.predict(x_test)\n",
    "# y_pred = model.predict(x_train)\n",
    "\n",
    "# print(metrics.confusion_matrix(Y_train, y_pred))\n",
    "# print(metrics.classification_report(Y_train, y_pred))\n",
    "\n",
    "print(metrics.confusion_matrix(Y_test,y_pred))\n",
    "print(metrics.classification_report(Y_test, y_pred))"
   ]
  },
  {
   "cell_type": "code",
   "execution_count": 208,
   "metadata": {},
   "outputs": [
    {
     "data": {
      "text/plain": [
       "(TensorShape([321, 6]),\n",
       " TensorShape([321, 1]),\n",
       " TensorShape([78, 6]),\n",
       " TensorShape([78, 1]))"
      ]
     },
     "execution_count": 208,
     "metadata": {},
     "output_type": "execute_result"
    }
   ],
   "source": [
    "# 肠癌样本和健康样本的二分类问题-五个贡献度大的特征-------源码编写(-----梯度更新为nan-----)\n",
    "# 数据输入和准备\n",
    "x_train = np.array(X_train[(y_train == 0) | (y_train == 4)][[\"Otu527\",\"Otu325\",\"Otu511\",\"Otu202\",\"Otu87\"]])\n",
    "Y_train = np.array(y_train[(y_train == 0) | (y_train == 4)])\n",
    "x_test = np.array(X_test[(y_test == 0) | (y_test == 4)][[\"Otu527\",\"Otu325\",\"Otu511\",\"Otu202\",\"Otu87\"]])\n",
    "Y_test = np.array(y_test[(y_test == 0) | (y_test == 4)])\n",
    "# Y_train[Y_train==\"CR\"]=1\n",
    "# Y_train[Y_train==\"JK\"]=0\n",
    "# Y_test[Y_test==\"CR\"]=1\n",
    "# Y_test[Y_test==\"JK\"]=0\n",
    "\n",
    "num_train = len(x_train)\n",
    "num_test = len(x_test)\n",
    "\n",
    "# 中心化处理\n",
    "x_train = x_train - np.mean(x_train,axis=0)\n",
    "x_test = x_test - np.mean(x_test,axis=0)\n",
    "\n",
    "x0_train = np.ones(num_train).reshape(-1,1)\n",
    "x0_test = np.ones(num_test).reshape(-1,1)\n",
    "\n",
    "xtrain_data = tf.cast(tf.concat((x0_train,x_train),axis=1),tf.float32)\n",
    "ytrain_index = tf.cast(Y_train.reshape(-1,1),tf.float32)\n",
    "xtest_data = tf.cast(tf.concat((x0_test,x_test),axis=1),tf.float32)\n",
    "ytest_index = tf.cast(Y_test.reshape(-1,1),tf.float32)\n",
    "\n",
    "xtrain_data.shape,ytrain_index.shape,xtest_data.shape,ytest_index.shape"
   ]
  },
  {
   "cell_type": "code",
   "execution_count": 213,
   "metadata": {},
   "outputs": [],
   "source": [
    "# 设置超参数\n",
    "learn_rate = 0.01\n",
    "iter = 100\n",
    "display_step = 10\n",
    "\n",
    "# 设置初始值\n",
    "np.random.seed(520)\n",
    "W = tf.Variable(np.random.randn(a.shape[1],1),dtype=tf.float32)\n",
    "W"
   ]
  },
  {
   "cell_type": "code",
   "execution_count": 243,
   "metadata": {},
   "outputs": [
    {
     "name": "stderr",
     "output_type": "stream",
     "text": [
      "<ipython-input-243-799297607862>:15: RuntimeWarning: invalid value encountered in less\n",
      "  train_acc = tf.reduce_mean(tf.cast(tf.equal(tf.where(PRED_train.numpy()<0.5,0.,1.),ytrain_index),tf.float32))\n",
      "<ipython-input-243-799297607862>:16: RuntimeWarning: invalid value encountered in less\n",
      "  test_acc = tf.reduce_mean(tf.cast(tf.equal(tf.where(PRED_test.numpy()<0.5,0.,1.),ytest_index),tf.float32))\n"
     ]
    }
   ],
   "source": [
    "# 训练模型\n",
    "loss_train = []\n",
    "loss_test = []\n",
    "acc_train = []\n",
    "acc_test = []\n",
    "\n",
    "for i in range(0,iter+1):\n",
    "    \n",
    "    with tf.GradientTape() as tape:\n",
    "        PRED_train = 1/(1+tf.exp(-tf.matmul(xtrain_data,W)))\n",
    "        train_Loss = -tf.reduce_mean(ytrain_index*tf.math.log(PRED_train+0.0000001)+(1-ytrain_index)*tf.math.log(1-PRED_train+0.000001))\n",
    "        PRED_test = 1/(1+tf.exp(-tf.matmul(xtest_data,W)))\n",
    "        test_Loss = -tf.reduce_mean(ytest_index*tf.math.log(PRED_test+0.0000001)+(1-ytest_index)*tf.math.log(1-PRED_test+0.0000001))\n",
    "        \n",
    "    train_acc = tf.reduce_mean(tf.cast(tf.equal(tf.where(PRED_train.numpy()<0.5,0.,1.),ytrain_index),tf.float32))\n",
    "    test_acc = tf.reduce_mean(tf.cast(tf.equal(tf.where(PRED_test.numpy()<0.5,0.,1.),ytest_index),tf.float32))\n",
    "    \n",
    "    loss_train.append(train_Loss)\n",
    "    loss_test.append(test_Loss)\n",
    "    \n",
    "    acc_train.append(train_acc)\n",
    "    acc_test.append(test_acc)\n",
    "    dl_dw = tape.gradient(train_Loss,W)\n",
    "    W.assign_sub(learn_rate*dl_dw)\n",
    "#     print(train_Loss)\n",
    "#     print(f\"i:{i},dl_dw:{dl_dw}\")\n",
    "#     print(W)\n",
    "    \n",
    "#     if i % display_step == 0:\n",
    "#         print(\"trainLoss: %f, testLoss: %f\"%(train_Loss,test_Loss))\n",
    "#         print(\"trainACC: %f, testACC: %f\"%(train_acc,test_acc))"
   ]
  },
  {
   "cell_type": "code",
   "execution_count": 217,
   "metadata": {},
   "outputs": [
    {
     "data": {
      "text/plain": [
       "(TensorShape([799, 6]),\n",
       " TensorShape([799, 5]),\n",
       " TensorShape([200, 6]),\n",
       " TensorShape([200, 5]))"
      ]
     },
     "execution_count": 217,
     "metadata": {},
     "output_type": "execute_result"
    }
   ],
   "source": [
    "# Softmax做多分类-----五分类模型(-----梯度更新为nan-----)\n",
    "x_train = np.array(X_train[[\"Otu527\",\"Otu325\",\"Otu511\",\"Otu202\",\"Otu87\"]])\n",
    "Y_train = np.array(y_train)\n",
    "x_test = np.array(X_test[[\"Otu527\",\"Otu325\",\"Otu511\",\"Otu202\",\"Otu87\"]])\n",
    "Y_test = np.array(y_test)\n",
    "\n",
    "num_train = len(x_train)\n",
    "num_test = len(x_test)\n",
    "\n",
    "x0_train = np.ones(num_train).reshape(-1,1)\n",
    "x0_test = np.ones(num_test).reshape(-1,1)\n",
    "\n",
    "xtrain_data = tf.cast(tf.concat((x0_train,x_train),axis=1),tf.float32)\n",
    "ytrain_index = tf.one_hot(tf.constant(Y_train,dtype=tf.int32),5)\n",
    "\n",
    "xtest_data = tf.cast(tf.concat((x0_test,x_test),axis=1),tf.float32)\n",
    "ytest_index = tf.one_hot(tf.constant(Y_test,dtype=tf.int32),5)\n",
    "\n",
    "xtrain_data.shape,ytrain_index.shape,xtest_data.shape,ytest_index.shape"
   ]
  },
  {
   "cell_type": "code",
   "execution_count": 221,
   "metadata": {},
   "outputs": [],
   "source": [
    "# 设置模型超参数，设置模型初始参数\n",
    "learn_rate = 0.2\n",
    "iter = 500\n",
    "display_step = 100\n",
    "\n",
    "np.random.seed(612)\n",
    "W = tf.Variable(np.random.randn(xtrain_data.shape[1],5),dtype=tf.float32)"
   ]
  },
  {
   "cell_type": "code",
   "execution_count": 227,
   "metadata": {},
   "outputs": [
    {
     "name": "stdout",
     "output_type": "stream",
     "text": [
      "i: 0,Acc: 0.197747,Loss:nan\n",
      "i: 100,Acc: 0.197747,Loss:nan\n",
      "i: 200,Acc: 0.197747,Loss:nan\n",
      "i: 300,Acc: 0.197747,Loss:nan\n",
      "i: 400,Acc: 0.197747,Loss:nan\n",
      "i: 500,Acc: 0.197747,Loss:nan\n"
     ]
    }
   ],
   "source": [
    "# 训练模型\n",
    "acc_train = []\n",
    "cce_train = []\n",
    "\n",
    "acc_test = []\n",
    "cce_test = []\n",
    "for i in range(0,iter+1):\n",
    "    with tf.GradientTape() as tape:\n",
    "        PRED_train = tf.nn.softmax(tf.matmul(xtrain_data,W))\n",
    "        Loss_train = -tf.reduce_sum(ytrain_index*tf.math.log(PRED_train+0.0001))/num_train\n",
    "        \n",
    "        PRED_test = tf.nn.softmax(tf.matmul(xtest_data,W))\n",
    "        Loss_test = -tf.reduce_sum(ytest_index*tf.math.log(PRED_test+0.0001))/num_train \n",
    "\n",
    "    accuracy_train = tf.reduce_mean(tf.cast(tf.equal(tf.argmax(PRED_train.numpy(),axis=1),Y_train),tf.float32))\n",
    "    accuracy_test = tf.reduce_mean(tf.cast(tf.equal(tf.argmax(PRED_test.numpy(),axis=1),Y_test),tf.float32))\n",
    "\n",
    "    acc_train.append(accuracy_train)\n",
    "    cce_train.append(Loss_train)\n",
    "    \n",
    "    acc_test.append(accuracy_test)\n",
    "    cce_test.append(Loss_test)\n",
    "#     dl_dw = tape.gradient(Loss_train,W)\n",
    "    W.assign_sub(learn_rate*dl_dw)\n",
    "    \n",
    "    if i % display_step == 0:\n",
    "        print(\"i: %i,Acc: %f,Loss:%f\"%(i,accuracy_train,Loss_train))"
   ]
  },
  {
   "cell_type": "markdown",
   "metadata": {},
   "source": [
    "模型三: 多种弱分类器的集成学习"
   ]
  },
  {
   "cell_type": "code",
   "execution_count": 32,
   "metadata": {},
   "outputs": [
    {
     "name": "stdout",
     "output_type": "stream",
     "text": [
      "10-folds cross validation :\n",
      "\n",
      "[0.75      0.8125    0.7125    0.6875    0.7375    0.7875    0.725\n",
      " 0.775     0.725     0.7721519]\n",
      "ACCURACY: 0.75(+/- 0.04)[Logistic regression]\n",
      "[0.575      0.5875     0.475      0.6375     0.625      0.6\n",
      " 0.6        0.625      0.55       0.64556962]\n",
      "ACCURACY: 0.59(+/- 0.05)[Decision tree]\n",
      "[0.5625     0.55       0.4375     0.525      0.525      0.6125\n",
      " 0.5375     0.5875     0.475      0.55696203]\n",
      "ACCURACY: 0.54(+/- 0.05)[KNN]\n"
     ]
    }
   ],
   "source": [
    "from sklearn.model_selection import cross_val_score   # 10折交叉验证评价模型\n",
    "from sklearn.linear_model import LogisticRegression\n",
    "from sklearn.tree import DecisionTreeClassifier\n",
    "from sklearn.neighbors import KNeighborsClassifier\n",
    "from sklearn.pipeline import Pipeline   # 管道简化工作流\n",
    "from sklearn.preprocessing import StandardScaler  # 标准化数据\n",
    "from sklearn.preprocessing import LabelEncoder   # 标签化分类变量\n",
    "\n",
    "clf1 = LogisticRegression(penalty='l2',C=0.001)\n",
    "clf2 = DecisionTreeClassifier()\n",
    "clf3 = KNeighborsClassifier()\n",
    "\n",
    "std = StandardScaler()\n",
    "x_train = std.fit_transform(X_train)\n",
    "x_test = std.fit_transform(X_test)\n",
    "\n",
    "pipe1 = Pipeline([['sc',StandardScaler()],['clf',clf1]])\n",
    "pipe3 = Pipeline([['sc',StandardScaler()],['clf',clf3]])\n",
    "clf_labels = ['Logistic regression','Decision tree','KNN']\n",
    "print('10-folds cross validation :\\n')\n",
    "for clf,label in zip([pipe1,clf2,pipe3],clf_labels):\n",
    "    scores = cross_val_score(clf, x_train, y_train, cv=10)\n",
    "    print(scores)\n",
    "    print(\"ACCURACY: %0.2f(+/- %0.2f)[%s]\"%(scores.mean(),scores.std(),label))"
   ]
  },
  {
   "cell_type": "code",
   "execution_count": 20,
   "metadata": {},
   "outputs": [
    {
     "data": {
      "text/plain": [
       "Counter({True: 92, False: 108})"
      ]
     },
     "execution_count": 20,
     "metadata": {},
     "output_type": "execute_result"
    }
   ],
   "source": [
    "# K近邻分类\n",
    "knn = KNeighborsClassifier()    #实例化KNN模型\n",
    "knn.fit(X_train, y_train)      #放入训练数据进行训练\n",
    "# print(knn.predict(X_test))           #打印预测内容\n",
    "Counter(knn.predict(X_test)==y_test)"
   ]
  },
  {
   "cell_type": "code",
   "execution_count": 24,
   "metadata": {},
   "outputs": [
    {
     "data": {
      "text/plain": [
       "Counter({True: 125, False: 75})"
      ]
     },
     "execution_count": 24,
     "metadata": {},
     "output_type": "execute_result"
    }
   ],
   "source": [
    "# 决策树分类\n",
    "from sklearn import tree\n",
    "dtc = tree.DecisionTreeClassifier(criterion=\"entropy\")\n",
    "clf = dtc.fit(X_train, y_train)\n",
    "# print(clf.predict(X_test))\n",
    "Counter(clf.predict(X_test)==y_test)"
   ]
  },
  {
   "cell_type": "code",
   "execution_count": 28,
   "metadata": {},
   "outputs": [
    {
     "data": {
      "text/plain": [
       "Counter({True: 161, False: 39})"
      ]
     },
     "execution_count": 28,
     "metadata": {},
     "output_type": "execute_result"
    }
   ],
   "source": [
    "# 逻辑回归分类\n",
    "std = StandardScaler()\n",
    "x_train = std.fit_transform(X_train)\n",
    "x_test = std.fit_transform(X_test)\n",
    "#训练模型\n",
    "model = LogisticRegression(penalty='l2',C=1,)\n",
    "model.fit(x_train,y_train)\n",
    "y_pred = model.predict(x_test)\n",
    "Counter(y_pred==y_test)"
   ]
  },
  {
   "cell_type": "code",
   "execution_count": 33,
   "metadata": {},
   "outputs": [],
   "source": [
    "## 绘制决策树模型------环境变量配置未完成\n",
    "# from sklearn.datasets import load_iris\n",
    "# from sklearn import tree\n",
    "# from sklearn.model_selection import train_test_split\n",
    "# import graphviz\n",
    "# import os\n",
    "\n",
    "# def multi_class_tree():\n",
    "#     iris = load_iris()\n",
    "#     x = iris['data']\n",
    "#     y = iris['target']\n",
    "#     dtc = tree.DecisionTreeClassifier(criterion=\"entropy\")\n",
    "#     x_train, x_test, y_train, y_test = train_test_split(x, y, test_size=0.1)\n",
    "#     clf = dtc.fit(x_train, y_train)\n",
    "#     print(clf.predict(x_test))\n",
    "#     print(y_test)\n",
    "#     dot_data = tree.export_graphviz(clf, out_file=None)\n",
    "#     graph = graphviz.Source(dot_data)\n",
    "#     os.environ[\"PATH\"] += os.pathsep + 'F:/Program Files/Graphviz2.38/bin/'\n",
    "#     graph.render(\"iris\", view=True)\n",
    "\n",
    "# multi_class_tree()"
   ]
  },
  {
   "cell_type": "code",
   "execution_count": 35,
   "metadata": {},
   "outputs": [
    {
     "name": "stdout",
     "output_type": "stream",
     "text": [
      "10-folds cross validation :\n",
      "\n",
      "ACCURACY: 0.75(+/- 0.04)[Logistic regression]\n",
      "ACCURACY: 0.60(+/- 0.05)[Decision tree]\n",
      "ACCURACY: 0.54(+/- 0.05)[KNN]\n",
      "ACCURACY: 0.65(+/- 0.05)[MajorityVoteClassifier]\n"
     ]
    }
   ],
   "source": [
    "## 我们使用MajorityVoteClassifier集成：\n",
    "from sklearn.ensemble import VotingClassifier\n",
    "mv_clf = VotingClassifier(estimators=[('pipe1',pipe1),('clf2',clf2),('pipe3',pipe3)],voting='soft')\n",
    "clf_labels += ['MajorityVoteClassifier']\n",
    "all_clf = [pipe1,clf2,pipe3,mv_clf]\n",
    "print('10-folds cross validation :\\n')\n",
    "for clf,label in zip(all_clf,clf_labels):\n",
    "    scores = cross_val_score(estimator=clf,X=x_train,y=y_train,cv=10)\n",
    "    print(\"ACCURACY: %0.2f(+/- %0.2f)[%s]\"%(scores.mean(),scores.std(),label))\n",
    "## 对比下面结果，可以得知多数投票方式的分类算法，抗差能力更强。"
   ]
  },
  {
   "cell_type": "code",
   "execution_count": 41,
   "metadata": {},
   "outputs": [
    {
     "name": "stdout",
     "output_type": "stream",
     "text": [
      "Bagging train/test accuracies 1.000/0.890\n"
     ]
    }
   ],
   "source": [
    "# 基于bagging思想的套袋集成技术\n",
    "from sklearn.ensemble import BaggingClassifier\n",
    "tree = DecisionTreeClassifier(criterion='entropy',random_state=1,max_depth=None)   #选择决策树为基本分类器\n",
    "bag = BaggingClassifier(base_estimator=tree,n_estimators=500,max_samples=1.0,max_features=1.0,bootstrap=True,\n",
    "                        bootstrap_features=False,n_jobs=1,random_state=1)\n",
    "from sklearn.metrics import accuracy_score\n",
    "bag = bag.fit(X_train,y_train)\n",
    "y_train_pred = bag.predict(X_train)\n",
    "y_test_pred = bag.predict(X_test)\n",
    "bag_train = accuracy_score(y_train,y_train_pred)\n",
    "bag_test = accuracy_score(y_test,y_test_pred)\n",
    "print('Bagging train/test accuracies %.3f/%.3f' % (bag_train,bag_test))"
   ]
  },
  {
   "cell_type": "code",
   "execution_count": 45,
   "metadata": {},
   "outputs": [
    {
     "name": "stdout",
     "output_type": "stream",
     "text": [
      "Adaboost train/test accuracies 1.000/0.625\n"
     ]
    }
   ],
   "source": [
    "# 基于boosting思想的自适应增强方法----Adaboost集成建模\n",
    "from sklearn.ensemble import AdaBoostClassifier\n",
    "ada = AdaBoostClassifier(base_estimator=tree,n_estimators=500,learning_rate=0.1,random_state=1)\n",
    "ada = ada.fit(X_train,y_train)\n",
    "y_train_pred = ada.predict(X_train)\n",
    "y_test_pred = ada.predict(X_test)\n",
    "ada_train = accuracy_score(y_train,y_train_pred)\n",
    "ada_test = accuracy_score(y_test,y_test_pred)\n",
    "print('Adaboost train/test accuracies %.3f/%.3f' % (ada_train,ada_test))"
   ]
  },
  {
   "cell_type": "code",
   "execution_count": 53,
   "metadata": {},
   "outputs": [
    {
     "name": "stdout",
     "output_type": "stream",
     "text": [
      "3-fold cross validation:\n",
      "\n",
      "Accuracy: 0.38 (+/- 0.01) [KNN]\n",
      "Accuracy: 0.90 (+/- 0.01) [Random Forest]\n",
      "Accuracy: 0.57 (+/- 0.02) [Naive Bayes]\n",
      "Accuracy: 0.86 (+/- 0.02) [StackingClassifier]\n"
     ]
    }
   ],
   "source": [
    "## 1. 简单堆叠3折CV分类\n",
    "from sklearn.model_selection import cross_val_score\n",
    "from sklearn.linear_model import LogisticRegression\n",
    "from sklearn.neighbors import KNeighborsClassifier\n",
    "from sklearn.naive_bayes import GaussianNB\n",
    "from sklearn.ensemble import RandomForestClassifier\n",
    "from mlxtend.classifier import StackingCVClassifier\n",
    "\n",
    "RANDOM_SEED = 42\n",
    "\n",
    "clf1 = KNeighborsClassifier()\n",
    "clf2 = RandomForestClassifier(random_state=RANDOM_SEED)\n",
    "clf3 = GaussianNB()\n",
    "lr = LogisticRegression()\n",
    "\n",
    "# Starting from v0.16.0, StackingCVRegressor supports\n",
    "# `random_state` to get deterministic result.\n",
    "sclf = StackingCVClassifier(classifiers=[clf1, clf2, clf3],  # 第一层分类器\n",
    "                            meta_classifier=lr,   # 第二层分类器\n",
    "                            random_state=RANDOM_SEED)\n",
    "\n",
    "print('3-fold cross validation:\\n')\n",
    "\n",
    "for clf, label in zip([clf1, clf2, clf3, sclf], ['KNN', 'Random Forest', 'Naive Bayes','StackingClassifier']):\n",
    "    scores = cross_val_score(clf, X_train, y_train, cv=3, scoring='accuracy')\n",
    "    print(\"Accuracy: %0.2f (+/- %0.2f) [%s]\" % (scores.mean(), scores.std(), label))"
   ]
  },
  {
   "cell_type": "code",
   "execution_count": 54,
   "metadata": {},
   "outputs": [],
   "source": [
    "#  conda install mlxtend --channel conda-forge  安装mlxtend库"
   ]
  },
  {
   "cell_type": "code",
   "execution_count": 55,
   "metadata": {},
   "outputs": [
    {
     "name": "stdout",
     "output_type": "stream",
     "text": [
      "3-fold cross validation:\n",
      "\n",
      "Accuracy: 0.38 (+/- 0.01) [KNN]\n",
      "Accuracy: 0.90 (+/- 0.01) [Random Forest]\n",
      "Accuracy: 0.57 (+/- 0.02) [Naive Bayes]\n",
      "Accuracy: 0.84 (+/- 0.03) [StackingClassifier]\n"
     ]
    }
   ],
   "source": [
    "## 2.使用概率作为元特征\n",
    "clf1 = KNeighborsClassifier(n_neighbors=1)\n",
    "clf2 = RandomForestClassifier(random_state=1)\n",
    "clf3 = GaussianNB()\n",
    "lr = LogisticRegression()\n",
    "\n",
    "sclf = StackingCVClassifier(classifiers=[clf1, clf2, clf3],\n",
    "                            use_probas=True,\n",
    "                            meta_classifier=lr,\n",
    "                            random_state=42)\n",
    "\n",
    "print('3-fold cross validation:\\n')\n",
    "\n",
    "for clf, label in zip([clf1, clf2, clf3, sclf],\n",
    "                      ['KNN',\n",
    "                       'Random Forest',\n",
    "                       'Naive Bayes',\n",
    "                       'StackingClassifier']):\n",
    "\n",
    "    scores = cross_val_score(clf, X_train, y_train,\n",
    "                                              cv=3, scoring='accuracy')\n",
    "    print(\"Accuracy: %0.2f (+/- %0.2f) [%s]\"\n",
    "          % (scores.mean(), scores.std(), label))"
   ]
  },
  {
   "cell_type": "code",
   "execution_count": 56,
   "metadata": {},
   "outputs": [
    {
     "name": "stderr",
     "output_type": "stream",
     "text": [
      "E:\\anaconda3\\envs\\tensorflow20\\lib\\site-packages\\sklearn\\linear_model\\_logistic.py:762: ConvergenceWarning: lbfgs failed to converge (status=1):\n",
      "STOP: TOTAL NO. of ITERATIONS REACHED LIMIT.\n",
      "\n",
      "Increase the number of iterations (max_iter) or scale the data as shown in:\n",
      "    https://scikit-learn.org/stable/modules/preprocessing.html\n",
      "Please also refer to the documentation for alternative solver options:\n",
      "    https://scikit-learn.org/stable/modules/linear_model.html#logistic-regression\n",
      "  )\n",
      "E:\\anaconda3\\envs\\tensorflow20\\lib\\site-packages\\sklearn\\linear_model\\_logistic.py:762: ConvergenceWarning: lbfgs failed to converge (status=1):\n",
      "STOP: TOTAL NO. of ITERATIONS REACHED LIMIT.\n",
      "\n",
      "Increase the number of iterations (max_iter) or scale the data as shown in:\n",
      "    https://scikit-learn.org/stable/modules/preprocessing.html\n",
      "Please also refer to the documentation for alternative solver options:\n",
      "    https://scikit-learn.org/stable/modules/linear_model.html#logistic-regression\n",
      "  )\n"
     ]
    },
    {
     "name": "stdout",
     "output_type": "stream",
     "text": [
      "0.596 +/- 0.02 {'kneighborsclassifier__n_neighbors': 1, 'meta_classifier__C': 0.1, 'randomforestclassifier__n_estimators': 10}\n",
      "0.812 +/- 0.02 {'kneighborsclassifier__n_neighbors': 1, 'meta_classifier__C': 0.1, 'randomforestclassifier__n_estimators': 50}\n",
      "0.640 +/- 0.02 {'kneighborsclassifier__n_neighbors': 1, 'meta_classifier__C': 10.0, 'randomforestclassifier__n_estimators': 10}\n",
      "0.840 +/- 0.02 {'kneighborsclassifier__n_neighbors': 1, 'meta_classifier__C': 10.0, 'randomforestclassifier__n_estimators': 50}\n",
      "0.564 +/- 0.03 {'kneighborsclassifier__n_neighbors': 5, 'meta_classifier__C': 0.1, 'randomforestclassifier__n_estimators': 10}\n",
      "0.822 +/- 0.01 {'kneighborsclassifier__n_neighbors': 5, 'meta_classifier__C': 0.1, 'randomforestclassifier__n_estimators': 50}\n",
      "0.626 +/- 0.01 {'kneighborsclassifier__n_neighbors': 5, 'meta_classifier__C': 10.0, 'randomforestclassifier__n_estimators': 10}\n",
      "0.847 +/- 0.01 {'kneighborsclassifier__n_neighbors': 5, 'meta_classifier__C': 10.0, 'randomforestclassifier__n_estimators': 50}\n",
      "Best parameters: {'kneighborsclassifier__n_neighbors': 5, 'meta_classifier__C': 10.0, 'randomforestclassifier__n_estimators': 50}\n",
      "Accuracy: 0.85\n"
     ]
    }
   ],
   "source": [
    "from sklearn.linear_model import LogisticRegression\n",
    "from sklearn.neighbors import KNeighborsClassifier\n",
    "from sklearn.naive_bayes import GaussianNB\n",
    "from sklearn.ensemble import RandomForestClassifier\n",
    "from sklearn.model_selection import GridSearchCV\n",
    "from mlxtend.classifier import StackingCVClassifier\n",
    "\n",
    "# Initializing models\n",
    "\n",
    "clf1 = KNeighborsClassifier(n_neighbors=1)\n",
    "clf2 = RandomForestClassifier(random_state=RANDOM_SEED)\n",
    "clf3 = GaussianNB()\n",
    "lr = LogisticRegression()\n",
    "\n",
    "sclf = StackingCVClassifier(classifiers=[clf1, clf2, clf3],\n",
    "                            meta_classifier=lr,\n",
    "                            random_state=42)\n",
    "\n",
    "params = {'kneighborsclassifier__n_neighbors': [1, 5],\n",
    "          'randomforestclassifier__n_estimators': [10, 50],\n",
    "          'meta_classifier__C': [0.1, 10.0]}\n",
    "\n",
    "grid = GridSearchCV(estimator=sclf,\n",
    "                    param_grid=params,\n",
    "                    cv=5,\n",
    "                    refit=True)\n",
    "grid.fit(X_train, y_train)\n",
    "\n",
    "cv_keys = ('mean_test_score', 'std_test_score', 'params')\n",
    "\n",
    "for r, _ in enumerate(grid.cv_results_['mean_test_score']):\n",
    "    print(\"%0.3f +/- %0.2f %r\"\n",
    "          % (grid.cv_results_[cv_keys[0]][r],\n",
    "             grid.cv_results_[cv_keys[1]][r] / 2.0,\n",
    "             grid.cv_results_[cv_keys[2]][r]))\n",
    "\n",
    "print('Best parameters: %s' % grid.best_params_)\n",
    "print('Accuracy: %.2f' % grid.best_score_)"
   ]
  },
  {
   "cell_type": "code",
   "execution_count": 57,
   "metadata": {},
   "outputs": [
    {
     "name": "stderr",
     "output_type": "stream",
     "text": [
      "E:\\anaconda3\\envs\\tensorflow20\\lib\\site-packages\\sklearn\\linear_model\\_logistic.py:762: ConvergenceWarning: lbfgs failed to converge (status=1):\n",
      "STOP: TOTAL NO. of ITERATIONS REACHED LIMIT.\n",
      "\n",
      "Increase the number of iterations (max_iter) or scale the data as shown in:\n",
      "    https://scikit-learn.org/stable/modules/preprocessing.html\n",
      "Please also refer to the documentation for alternative solver options:\n",
      "    https://scikit-learn.org/stable/modules/linear_model.html#logistic-regression\n",
      "  )\n",
      "E:\\anaconda3\\envs\\tensorflow20\\lib\\site-packages\\sklearn\\linear_model\\_logistic.py:762: ConvergenceWarning: lbfgs failed to converge (status=1):\n",
      "STOP: TOTAL NO. of ITERATIONS REACHED LIMIT.\n",
      "\n",
      "Increase the number of iterations (max_iter) or scale the data as shown in:\n",
      "    https://scikit-learn.org/stable/modules/preprocessing.html\n",
      "Please also refer to the documentation for alternative solver options:\n",
      "    https://scikit-learn.org/stable/modules/linear_model.html#logistic-regression\n",
      "  )\n",
      "E:\\anaconda3\\envs\\tensorflow20\\lib\\site-packages\\sklearn\\linear_model\\_logistic.py:762: ConvergenceWarning: lbfgs failed to converge (status=1):\n",
      "STOP: TOTAL NO. of ITERATIONS REACHED LIMIT.\n",
      "\n",
      "Increase the number of iterations (max_iter) or scale the data as shown in:\n",
      "    https://scikit-learn.org/stable/modules/preprocessing.html\n",
      "Please also refer to the documentation for alternative solver options:\n",
      "    https://scikit-learn.org/stable/modules/linear_model.html#logistic-regression\n",
      "  )\n"
     ]
    },
    {
     "data": {
      "text/plain": [
       "StackingCVClassifier(classifiers=[Pipeline(steps=[('columnselector',\n",
       "                                                   ColumnSelector(cols=(0, 2))),\n",
       "                                                  ('logisticregression',\n",
       "                                                   LogisticRegression())]),\n",
       "                                  Pipeline(steps=[('columnselector',\n",
       "                                                   ColumnSelector(cols=(1, 2,\n",
       "                                                                        3))),\n",
       "                                                  ('logisticregression',\n",
       "                                                   LogisticRegression())])],\n",
       "                     meta_classifier=LogisticRegression(), random_state=42)"
      ]
     },
     "execution_count": 57,
     "metadata": {},
     "output_type": "execute_result"
    }
   ],
   "source": [
    "## 4.在不同特征子集上运行的分类器的堆叠\n",
    "###不同的1级分类器可以适合训练数据集中的不同特征子集。以下示例说明了如何使用scikit-learn管道和ColumnSelector：\n",
    "from mlxtend.classifier import StackingCVClassifier\n",
    "from mlxtend.feature_selection import ColumnSelector\n",
    "from sklearn.pipeline import make_pipeline\n",
    "from sklearn.linear_model import LogisticRegression\n",
    "\n",
    "\n",
    "pipe1 = make_pipeline(ColumnSelector(cols=(0, 2)),  # 选择第0,2列\n",
    "                      LogisticRegression())\n",
    "pipe2 = make_pipeline(ColumnSelector(cols=(1, 2, 3)),  # 选择第1,2,3列\n",
    "                      LogisticRegression())\n",
    "\n",
    "sclf = StackingCVClassifier(classifiers=[pipe1, pipe2],\n",
    "                            meta_classifier=LogisticRegression(),\n",
    "                            random_state=42)\n",
    "\n",
    "sclf.fit(X_train, y_train)"
   ]
  },
  {
   "cell_type": "code",
   "execution_count": 21,
   "metadata": {},
   "outputs": [
    {
     "name": "stderr",
     "output_type": "stream",
     "text": [
      "E:\\anaconda3\\envs\\tensorflow20\\lib\\site-packages\\sklearn\\linear_model\\_logistic.py:763: ConvergenceWarning: lbfgs failed to converge (status=1):\n",
      "STOP: TOTAL NO. of ITERATIONS REACHED LIMIT.\n",
      "\n",
      "Increase the number of iterations (max_iter) or scale the data as shown in:\n",
      "    https://scikit-learn.org/stable/modules/preprocessing.html\n",
      "Please also refer to the documentation for alternative solver options:\n",
      "    https://scikit-learn.org/stable/modules/linear_model.html#logistic-regression\n",
      "  n_iter_i = _check_optimize_result(\n",
      "E:\\anaconda3\\envs\\tensorflow20\\lib\\site-packages\\sklearn\\linear_model\\_logistic.py:763: ConvergenceWarning: lbfgs failed to converge (status=1):\n",
      "STOP: TOTAL NO. of ITERATIONS REACHED LIMIT.\n",
      "\n",
      "Increase the number of iterations (max_iter) or scale the data as shown in:\n",
      "    https://scikit-learn.org/stable/modules/preprocessing.html\n",
      "Please also refer to the documentation for alternative solver options:\n",
      "    https://scikit-learn.org/stable/modules/linear_model.html#logistic-regression\n",
      "  n_iter_i = _check_optimize_result(\n",
      "E:\\anaconda3\\envs\\tensorflow20\\lib\\site-packages\\sklearn\\linear_model\\_logistic.py:763: ConvergenceWarning: lbfgs failed to converge (status=1):\n",
      "STOP: TOTAL NO. of ITERATIONS REACHED LIMIT.\n",
      "\n",
      "Increase the number of iterations (max_iter) or scale the data as shown in:\n",
      "    https://scikit-learn.org/stable/modules/preprocessing.html\n",
      "Please also refer to the documentation for alternative solver options:\n",
      "    https://scikit-learn.org/stable/modules/linear_model.html#logistic-regression\n",
      "  n_iter_i = _check_optimize_result(\n",
      "E:\\anaconda3\\envs\\tensorflow20\\lib\\site-packages\\sklearn\\linear_model\\_logistic.py:763: ConvergenceWarning: lbfgs failed to converge (status=1):\n",
      "STOP: TOTAL NO. of ITERATIONS REACHED LIMIT.\n",
      "\n",
      "Increase the number of iterations (max_iter) or scale the data as shown in:\n",
      "    https://scikit-learn.org/stable/modules/preprocessing.html\n",
      "Please also refer to the documentation for alternative solver options:\n",
      "    https://scikit-learn.org/stable/modules/linear_model.html#logistic-regression\n",
      "  n_iter_i = _check_optimize_result(\n",
      "E:\\anaconda3\\envs\\tensorflow20\\lib\\site-packages\\sklearn\\linear_model\\_logistic.py:763: ConvergenceWarning: lbfgs failed to converge (status=1):\n",
      "STOP: TOTAL NO. of ITERATIONS REACHED LIMIT.\n",
      "\n",
      "Increase the number of iterations (max_iter) or scale the data as shown in:\n",
      "    https://scikit-learn.org/stable/modules/preprocessing.html\n",
      "Please also refer to the documentation for alternative solver options:\n",
      "    https://scikit-learn.org/stable/modules/linear_model.html#logistic-regression\n",
      "  n_iter_i = _check_optimize_result(\n",
      "E:\\anaconda3\\envs\\tensorflow20\\lib\\site-packages\\sklearn\\linear_model\\_logistic.py:763: ConvergenceWarning: lbfgs failed to converge (status=1):\n",
      "STOP: TOTAL NO. of ITERATIONS REACHED LIMIT.\n",
      "\n",
      "Increase the number of iterations (max_iter) or scale the data as shown in:\n",
      "    https://scikit-learn.org/stable/modules/preprocessing.html\n",
      "Please also refer to the documentation for alternative solver options:\n",
      "    https://scikit-learn.org/stable/modules/linear_model.html#logistic-regression\n",
      "  n_iter_i = _check_optimize_result(\n",
      "E:\\anaconda3\\envs\\tensorflow20\\lib\\site-packages\\sklearn\\linear_model\\_logistic.py:763: ConvergenceWarning: lbfgs failed to converge (status=1):\n",
      "STOP: TOTAL NO. of ITERATIONS REACHED LIMIT.\n",
      "\n",
      "Increase the number of iterations (max_iter) or scale the data as shown in:\n",
      "    https://scikit-learn.org/stable/modules/preprocessing.html\n",
      "Please also refer to the documentation for alternative solver options:\n",
      "    https://scikit-learn.org/stable/modules/linear_model.html#logistic-regression\n",
      "  n_iter_i = _check_optimize_result(\n",
      "E:\\anaconda3\\envs\\tensorflow20\\lib\\site-packages\\sklearn\\linear_model\\_logistic.py:763: ConvergenceWarning: lbfgs failed to converge (status=1):\n",
      "STOP: TOTAL NO. of ITERATIONS REACHED LIMIT.\n",
      "\n",
      "Increase the number of iterations (max_iter) or scale the data as shown in:\n",
      "    https://scikit-learn.org/stable/modules/preprocessing.html\n",
      "Please also refer to the documentation for alternative solver options:\n",
      "    https://scikit-learn.org/stable/modules/linear_model.html#logistic-regression\n",
      "  n_iter_i = _check_optimize_result(\n",
      "E:\\anaconda3\\envs\\tensorflow20\\lib\\site-packages\\sklearn\\linear_model\\_logistic.py:763: ConvergenceWarning: lbfgs failed to converge (status=1):\n",
      "STOP: TOTAL NO. of ITERATIONS REACHED LIMIT.\n",
      "\n",
      "Increase the number of iterations (max_iter) or scale the data as shown in:\n",
      "    https://scikit-learn.org/stable/modules/preprocessing.html\n",
      "Please also refer to the documentation for alternative solver options:\n",
      "    https://scikit-learn.org/stable/modules/linear_model.html#logistic-regression\n",
      "  n_iter_i = _check_optimize_result(\n",
      "E:\\anaconda3\\envs\\tensorflow20\\lib\\site-packages\\sklearn\\linear_model\\_logistic.py:763: ConvergenceWarning: lbfgs failed to converge (status=1):\n",
      "STOP: TOTAL NO. of ITERATIONS REACHED LIMIT.\n",
      "\n",
      "Increase the number of iterations (max_iter) or scale the data as shown in:\n",
      "    https://scikit-learn.org/stable/modules/preprocessing.html\n",
      "Please also refer to the documentation for alternative solver options:\n",
      "    https://scikit-learn.org/stable/modules/linear_model.html#logistic-regression\n",
      "  n_iter_i = _check_optimize_result(\n",
      "E:\\anaconda3\\envs\\tensorflow20\\lib\\site-packages\\sklearn\\linear_model\\_logistic.py:763: ConvergenceWarning: lbfgs failed to converge (status=1):\n",
      "STOP: TOTAL NO. of ITERATIONS REACHED LIMIT.\n",
      "\n",
      "Increase the number of iterations (max_iter) or scale the data as shown in:\n",
      "    https://scikit-learn.org/stable/modules/preprocessing.html\n",
      "Please also refer to the documentation for alternative solver options:\n",
      "    https://scikit-learn.org/stable/modules/linear_model.html#logistic-regression\n",
      "  n_iter_i = _check_optimize_result(\n",
      "E:\\anaconda3\\envs\\tensorflow20\\lib\\site-packages\\sklearn\\linear_model\\_logistic.py:763: ConvergenceWarning: lbfgs failed to converge (status=1):\n",
      "STOP: TOTAL NO. of ITERATIONS REACHED LIMIT.\n",
      "\n",
      "Increase the number of iterations (max_iter) or scale the data as shown in:\n",
      "    https://scikit-learn.org/stable/modules/preprocessing.html\n",
      "Please also refer to the documentation for alternative solver options:\n",
      "    https://scikit-learn.org/stable/modules/linear_model.html#logistic-regression\n",
      "  n_iter_i = _check_optimize_result(\n",
      "E:\\anaconda3\\envs\\tensorflow20\\lib\\site-packages\\sklearn\\linear_model\\_logistic.py:763: ConvergenceWarning: lbfgs failed to converge (status=1):\n",
      "STOP: TOTAL NO. of ITERATIONS REACHED LIMIT.\n",
      "\n",
      "Increase the number of iterations (max_iter) or scale the data as shown in:\n",
      "    https://scikit-learn.org/stable/modules/preprocessing.html\n",
      "Please also refer to the documentation for alternative solver options:\n",
      "    https://scikit-learn.org/stable/modules/linear_model.html#logistic-regression\n",
      "  n_iter_i = _check_optimize_result(\n",
      "E:\\anaconda3\\envs\\tensorflow20\\lib\\site-packages\\sklearn\\linear_model\\_logistic.py:763: ConvergenceWarning: lbfgs failed to converge (status=1):\n",
      "STOP: TOTAL NO. of ITERATIONS REACHED LIMIT.\n",
      "\n",
      "Increase the number of iterations (max_iter) or scale the data as shown in:\n",
      "    https://scikit-learn.org/stable/modules/preprocessing.html\n",
      "Please also refer to the documentation for alternative solver options:\n",
      "    https://scikit-learn.org/stable/modules/linear_model.html#logistic-regression\n",
      "  n_iter_i = _check_optimize_result(\n",
      "E:\\anaconda3\\envs\\tensorflow20\\lib\\site-packages\\sklearn\\linear_model\\_logistic.py:763: ConvergenceWarning: lbfgs failed to converge (status=1):\n",
      "STOP: TOTAL NO. of ITERATIONS REACHED LIMIT.\n",
      "\n",
      "Increase the number of iterations (max_iter) or scale the data as shown in:\n",
      "    https://scikit-learn.org/stable/modules/preprocessing.html\n",
      "Please also refer to the documentation for alternative solver options:\n",
      "    https://scikit-learn.org/stable/modules/linear_model.html#logistic-regression\n",
      "  n_iter_i = _check_optimize_result(\n"
     ]
    },
    {
     "data": {
      "image/png": "[encoded data removed]",
      "text/plain": [
       "<Figure size 432x288 with 1 Axes>"
      ]
     },
     "metadata": {
      "needs_background": "light"
     },
     "output_type": "display_data"
    }
   ],
   "source": [
    "from sklearn import model_selection\n",
    "from sklearn.linear_model import LogisticRegression\n",
    "from sklearn.neighbors import KNeighborsClassifier\n",
    "from sklearn.svm import SVC\n",
    "from sklearn.ensemble import RandomForestClassifier\n",
    "from mlxtend.classifier import StackingCVClassifier\n",
    "from sklearn.metrics import roc_curve, auc\n",
    "from sklearn.model_selection import train_test_split\n",
    "from sklearn import datasets\n",
    "from sklearn.preprocessing import label_binarize\n",
    "from sklearn.multiclass import OneVsRestClassifier\n",
    "\n",
    "# Binarize the output\n",
    "y = label_binarize(y, classes=[0, 1, 2,3,4])\n",
    "n_classes = y.shape[1]\n",
    "\n",
    "RANDOM_SEED = 42\n",
    "\n",
    "X_train, X_test, y_train, y_test = train_test_split(\n",
    "    X, y, test_size=0.2, random_state=RANDOM_SEED)\n",
    "\n",
    "clf1 =  LogisticRegression()\n",
    "clf2 = RandomForestClassifier(random_state=RANDOM_SEED)\n",
    "clf3 = SVC(random_state=RANDOM_SEED)\n",
    "lr = LogisticRegression()\n",
    "\n",
    "sclf = StackingCVClassifier(classifiers=[clf1, clf2, clf3],\n",
    "                            meta_classifier=lr)\n",
    "\n",
    "\n",
    "# classifier = OneVsRestClassifier(sclf)\n",
    "# scores =classifier.fit(X_train, y_train)\n",
    "# print(\"Accuracy: %0.2f (+/- %0.2f) \"% (scores.mean(), scores.std()))\n",
    "\n",
    "# Learn to predict each class against the other\n",
    "classifier = OneVsRestClassifier(sclf)\n",
    "y_score = classifier.fit(X_train, y_train).decision_function(X_test)\n",
    "\n",
    "# Compute ROC curve and ROC area for each class\n",
    "fpr = dict()\n",
    "tpr = dict()\n",
    "roc_auc = dict()\n",
    "for i in range(n_classes):\n",
    "    fpr[i], tpr[i], _ = roc_curve(y_test[:, i], y_score[:, i])\n",
    "    roc_auc[i] = auc(fpr[i], tpr[i])\n",
    "\n",
    "# Compute micro-average ROC curve and ROC area\n",
    "fpr[\"micro\"], tpr[\"micro\"], _ = roc_curve(y_test.ravel(), y_score.ravel())\n",
    "roc_auc[\"micro\"] = auc(fpr[\"micro\"], tpr[\"micro\"])\n",
    "\n",
    "plt.figure()\n",
    "lw = 2\n",
    "plt.plot(fpr[2], tpr[2], color='darkorange',\n",
    "         lw=lw, label='ROC curve (area = %0.2f)' % roc_auc[2])\n",
    "plt.plot([0, 1], [0, 1], color='navy', lw=lw, linestyle='--')\n",
    "plt.xlim([0.0, 1.0])\n",
    "plt.ylim([0.0, 1.05])\n",
    "plt.xlabel('False Positive Rate')\n",
    "plt.ylabel('True Positive Rate')\n",
    "plt.title('Receiver operating characteristic example')\n",
    "plt.legend(loc=\"lower right\")\n",
    "plt.show()"
   ]
  },
  {
   "cell_type": "markdown",
   "metadata": {},
   "source": [
    "第四种模型：支持向量机"
   ]
  },
  {
   "cell_type": "code",
   "execution_count": 22,
   "metadata": {},
   "outputs": [],
   "source": [
    "from sklearn.model_selection import train_test_split\n",
    "from sklearn.metrics import accuracy_score, recall_score\n",
    "import sklearn.svm as svm\n",
    "model = svm.SVC(kernel=\"linear\", decision_function_shape=\"ovo\")"
   ]
  },
  {
   "cell_type": "code",
   "execution_count": 28,
   "metadata": {},
   "outputs": [
    {
     "name": "stderr",
     "output_type": "stream",
     "text": [
      "E:\\anaconda3\\envs\\tensorflow20\\lib\\site-packages\\sklearn\\svm\\_base.py:985: ConvergenceWarning: Liblinear failed to converge, increase the number of iterations.\n",
      "  warnings.warn(\"Liblinear failed to converge, increase \"\n"
     ]
    },
    {
     "data": {
      "text/html": [
       "<div>\n",
       "<style scoped>\n",
       "    .dataframe tbody tr th:only-of-type {\n",
       "        vertical-align: middle;\n",
       "    }\n",
       "\n",
       "    .dataframe tbody tr th {\n",
       "        vertical-align: top;\n",
       "    }\n",
       "\n",
       "    .dataframe thead th {\n",
       "        text-align: right;\n",
       "    }\n",
       "</style>\n",
       "<table border=\"1\" class=\"dataframe\">\n",
       "  <thead>\n",
       "    <tr style=\"text-align: right;\">\n",
       "      <th></th>\n",
       "      <th>kernel</th>\n",
       "      <th>acu_train</th>\n",
       "      <th>acu_test</th>\n",
       "      <th>recall</th>\n",
       "    </tr>\n",
       "  </thead>\n",
       "  <tbody>\n",
       "    <tr>\n",
       "      <th>0</th>\n",
       "      <td>sigmoid</td>\n",
       "      <td>0.514393</td>\n",
       "      <td>0.480</td>\n",
       "      <td>0.482943</td>\n",
       "    </tr>\n",
       "    <tr>\n",
       "      <th>1</th>\n",
       "      <td>linear</td>\n",
       "      <td>1.000000</td>\n",
       "      <td>0.615</td>\n",
       "      <td>0.623071</td>\n",
       "    </tr>\n",
       "    <tr>\n",
       "      <th>2</th>\n",
       "      <td>rbf</td>\n",
       "      <td>0.772215</td>\n",
       "      <td>0.495</td>\n",
       "      <td>0.498928</td>\n",
       "    </tr>\n",
       "    <tr>\n",
       "      <th>3</th>\n",
       "      <td>poly</td>\n",
       "      <td>0.758448</td>\n",
       "      <td>0.415</td>\n",
       "      <td>0.425057</td>\n",
       "    </tr>\n",
       "    <tr>\n",
       "      <th>4</th>\n",
       "      <td>rbf</td>\n",
       "      <td>0.922403</td>\n",
       "      <td>0.590</td>\n",
       "      <td>0.594562</td>\n",
       "    </tr>\n",
       "    <tr>\n",
       "      <th>5</th>\n",
       "      <td>None</td>\n",
       "      <td>0.994994</td>\n",
       "      <td>0.670</td>\n",
       "      <td>0.673904</td>\n",
       "    </tr>\n",
       "  </tbody>\n",
       "</table>\n",
       "</div>"
      ],
      "text/plain": [
       "    kernel  acu_train  acu_test    recall\n",
       "0  sigmoid   0.514393     0.480  0.482943\n",
       "1   linear   1.000000     0.615  0.623071\n",
       "2      rbf   0.772215     0.495  0.498928\n",
       "3     poly   0.758448     0.415  0.425057\n",
       "4      rbf   0.922403     0.590  0.594562\n",
       "5     None   0.994994     0.670  0.673904"
      ]
     },
     "execution_count": 28,
     "metadata": {},
     "output_type": "execute_result"
    }
   ],
   "source": [
    "def svc(kernel):\n",
    "    return svm.SVC(kernel=kernel, decision_function_shape=\"ovo\")\n",
    "\n",
    "\n",
    "def nusvc():\n",
    "    return svm.NuSVC(decision_function_shape=\"ovo\")\n",
    "\n",
    "\n",
    "def linearsvc():\n",
    "    return svm.LinearSVC(multi_class=\"ovr\")\n",
    "\n",
    "\n",
    "def modelist():\n",
    "    modelist = []\n",
    "    kernalist = {\"linear\", \"poly\", \"rbf\", \"sigmoid\"}\n",
    "    for each in kernalist:\n",
    "        modelist.append(svc(each))\n",
    "    modelist.append(nusvc())\n",
    "    modelist.append(linearsvc())\n",
    "    return modelist\n",
    "\n",
    "\n",
    "def svc_model(model):\n",
    "    model.fit(X_train, y_train)\n",
    "    acu_train = model.score(X_train, y_train)\n",
    "    acu_test = model.score(X_test, y_test)\n",
    "    y_pred = model.predict(X_test)\n",
    "    recall = recall_score(y_test, y_pred, average=\"macro\")\n",
    "    return acu_train, acu_test, recall\n",
    "\n",
    "\n",
    "def run_svc_model(modelist):\n",
    "    result = {\"kernel\": [],\n",
    "              \"acu_train\": [],\n",
    "              \"acu_test\": [],\n",
    "              \"recall\": []\n",
    "              }\n",
    "\n",
    "    for model in modelist:\n",
    "        acu_train, acu_test, recall = svc_model(model)\n",
    "        try:\n",
    "            result[\"kernel\"].append(model.kernel)\n",
    "        except:\n",
    "            result[\"kernel\"].append(None)\n",
    "        result[\"acu_train\"].append(acu_train)\n",
    "        result[\"acu_test\"].append(acu_test)\n",
    "        result[\"recall\"].append(recall)\n",
    "\n",
    "    return pd.DataFrame(result)\n",
    "\n",
    "run_svc_model(modelist())\n"
   ]
  },
  {
   "cell_type": "code",
   "execution_count": 29,
   "metadata": {},
   "outputs": [
    {
     "data": {
      "text/html": [
       "<div>\n",
       "<style scoped>\n",
       "    .dataframe tbody tr th:only-of-type {\n",
       "        vertical-align: middle;\n",
       "    }\n",
       "\n",
       "    .dataframe tbody tr th {\n",
       "        vertical-align: top;\n",
       "    }\n",
       "\n",
       "    .dataframe thead th {\n",
       "        text-align: right;\n",
       "    }\n",
       "</style>\n",
       "<table border=\"1\" class=\"dataframe\">\n",
       "  <thead>\n",
       "    <tr style=\"text-align: right;\">\n",
       "      <th></th>\n",
       "      <th>C</th>\n",
       "      <th>acu_train</th>\n",
       "      <th>acu_test</th>\n",
       "      <th>recall</th>\n",
       "    </tr>\n",
       "  </thead>\n",
       "  <tbody>\n",
       "    <tr>\n",
       "      <th>0</th>\n",
       "      <td>10</td>\n",
       "      <td>1.0</td>\n",
       "      <td>0.615</td>\n",
       "      <td>0.623071</td>\n",
       "    </tr>\n",
       "    <tr>\n",
       "      <th>1</th>\n",
       "      <td>20</td>\n",
       "      <td>1.0</td>\n",
       "      <td>0.615</td>\n",
       "      <td>0.623071</td>\n",
       "    </tr>\n",
       "    <tr>\n",
       "      <th>2</th>\n",
       "      <td>30</td>\n",
       "      <td>1.0</td>\n",
       "      <td>0.615</td>\n",
       "      <td>0.623071</td>\n",
       "    </tr>\n",
       "    <tr>\n",
       "      <th>3</th>\n",
       "      <td>40</td>\n",
       "      <td>1.0</td>\n",
       "      <td>0.615</td>\n",
       "      <td>0.623071</td>\n",
       "    </tr>\n",
       "    <tr>\n",
       "      <th>4</th>\n",
       "      <td>50</td>\n",
       "      <td>1.0</td>\n",
       "      <td>0.615</td>\n",
       "      <td>0.623071</td>\n",
       "    </tr>\n",
       "    <tr>\n",
       "      <th>5</th>\n",
       "      <td>60</td>\n",
       "      <td>1.0</td>\n",
       "      <td>0.615</td>\n",
       "      <td>0.623071</td>\n",
       "    </tr>\n",
       "    <tr>\n",
       "      <th>6</th>\n",
       "      <td>70</td>\n",
       "      <td>1.0</td>\n",
       "      <td>0.615</td>\n",
       "      <td>0.623071</td>\n",
       "    </tr>\n",
       "    <tr>\n",
       "      <th>7</th>\n",
       "      <td>80</td>\n",
       "      <td>1.0</td>\n",
       "      <td>0.615</td>\n",
       "      <td>0.623071</td>\n",
       "    </tr>\n",
       "    <tr>\n",
       "      <th>8</th>\n",
       "      <td>90</td>\n",
       "      <td>1.0</td>\n",
       "      <td>0.615</td>\n",
       "      <td>0.623071</td>\n",
       "    </tr>\n",
       "    <tr>\n",
       "      <th>9</th>\n",
       "      <td>100</td>\n",
       "      <td>1.0</td>\n",
       "      <td>0.615</td>\n",
       "      <td>0.623071</td>\n",
       "    </tr>\n",
       "  </tbody>\n",
       "</table>\n",
       "</div>"
      ],
      "text/plain": [
       "     C  acu_train  acu_test    recall\n",
       "0   10        1.0     0.615  0.623071\n",
       "1   20        1.0     0.615  0.623071\n",
       "2   30        1.0     0.615  0.623071\n",
       "3   40        1.0     0.615  0.623071\n",
       "4   50        1.0     0.615  0.623071\n",
       "5   60        1.0     0.615  0.623071\n",
       "6   70        1.0     0.615  0.623071\n",
       "7   80        1.0     0.615  0.623071\n",
       "8   90        1.0     0.615  0.623071\n",
       "9  100        1.0     0.615  0.623071"
      ]
     },
     "execution_count": 29,
     "metadata": {},
     "output_type": "execute_result"
    }
   ],
   "source": [
    "def test_c():\n",
    "    result = {\"C\": [],\n",
    "              \"acu_train\": [],\n",
    "              \"acu_test\": [],\n",
    "              \"recall\": []\n",
    "              }\n",
    "    for c in range(10, 101, 10):\n",
    "        model = svm.SVC(kernel=\"linear\", C=c, decision_function_shape=\"ovo\")\n",
    "        acu_train, acu_test, recall = svc_model(model)\n",
    "        result[\"C\"].append(c)\n",
    "        result[\"acu_train\"].append(acu_train)\n",
    "        result[\"acu_test\"].append(acu_test)\n",
    "        result[\"recall\"].append(recall)\n",
    "    df = pd.DataFrame(result)\n",
    "    return df\n",
    "test_c()"
   ]
  },
  {
   "cell_type": "code",
   "execution_count": 30,
   "metadata": {},
   "outputs": [
    {
     "data": {
      "text/html": [
       "<div>\n",
       "<style scoped>\n",
       "    .dataframe tbody tr th:only-of-type {\n",
       "        vertical-align: middle;\n",
       "    }\n",
       "\n",
       "    .dataframe tbody tr th {\n",
       "        vertical-align: top;\n",
       "    }\n",
       "\n",
       "    .dataframe thead th {\n",
       "        text-align: right;\n",
       "    }\n",
       "</style>\n",
       "<table border=\"1\" class=\"dataframe\">\n",
       "  <thead>\n",
       "    <tr style=\"text-align: right;\">\n",
       "      <th></th>\n",
       "      <th>degree</th>\n",
       "      <th>acu_train</th>\n",
       "      <th>acu_test</th>\n",
       "      <th>recall</th>\n",
       "    </tr>\n",
       "  </thead>\n",
       "  <tbody>\n",
       "    <tr>\n",
       "      <th>0</th>\n",
       "      <td>1</td>\n",
       "      <td>0.662078</td>\n",
       "      <td>0.520</td>\n",
       "      <td>0.522790</td>\n",
       "    </tr>\n",
       "    <tr>\n",
       "      <th>1</th>\n",
       "      <td>2</td>\n",
       "      <td>0.769712</td>\n",
       "      <td>0.500</td>\n",
       "      <td>0.502850</td>\n",
       "    </tr>\n",
       "    <tr>\n",
       "      <th>2</th>\n",
       "      <td>3</td>\n",
       "      <td>0.758448</td>\n",
       "      <td>0.415</td>\n",
       "      <td>0.425057</td>\n",
       "    </tr>\n",
       "    <tr>\n",
       "      <th>3</th>\n",
       "      <td>4</td>\n",
       "      <td>0.703379</td>\n",
       "      <td>0.405</td>\n",
       "      <td>0.415775</td>\n",
       "    </tr>\n",
       "    <tr>\n",
       "      <th>4</th>\n",
       "      <td>5</td>\n",
       "      <td>0.610763</td>\n",
       "      <td>0.325</td>\n",
       "      <td>0.332344</td>\n",
       "    </tr>\n",
       "    <tr>\n",
       "      <th>5</th>\n",
       "      <td>6</td>\n",
       "      <td>0.568210</td>\n",
       "      <td>0.270</td>\n",
       "      <td>0.277735</td>\n",
       "    </tr>\n",
       "    <tr>\n",
       "      <th>6</th>\n",
       "      <td>7</td>\n",
       "      <td>0.550688</td>\n",
       "      <td>0.240</td>\n",
       "      <td>0.247887</td>\n",
       "    </tr>\n",
       "    <tr>\n",
       "      <th>7</th>\n",
       "      <td>8</td>\n",
       "      <td>0.540676</td>\n",
       "      <td>0.225</td>\n",
       "      <td>0.232198</td>\n",
       "    </tr>\n",
       "    <tr>\n",
       "      <th>8</th>\n",
       "      <td>9</td>\n",
       "      <td>0.531915</td>\n",
       "      <td>0.220</td>\n",
       "      <td>0.229072</td>\n",
       "    </tr>\n",
       "    <tr>\n",
       "      <th>9</th>\n",
       "      <td>10</td>\n",
       "      <td>0.530663</td>\n",
       "      <td>0.225</td>\n",
       "      <td>0.232833</td>\n",
       "    </tr>\n",
       "  </tbody>\n",
       "</table>\n",
       "</div>"
      ],
      "text/plain": [
       "   degree  acu_train  acu_test    recall\n",
       "0       1   0.662078     0.520  0.522790\n",
       "1       2   0.769712     0.500  0.502850\n",
       "2       3   0.758448     0.415  0.425057\n",
       "3       4   0.703379     0.405  0.415775\n",
       "4       5   0.610763     0.325  0.332344\n",
       "5       6   0.568210     0.270  0.277735\n",
       "6       7   0.550688     0.240  0.247887\n",
       "7       8   0.540676     0.225  0.232198\n",
       "8       9   0.531915     0.220  0.229072\n",
       "9      10   0.530663     0.225  0.232833"
      ]
     },
     "execution_count": 30,
     "metadata": {},
     "output_type": "execute_result"
    }
   ],
   "source": [
    "def test_degree():\n",
    "    result = {\"degree\": [],\n",
    "              \"acu_train\": [],\n",
    "              \"acu_test\": [],\n",
    "              \"recall\": []\n",
    "              }\n",
    "    for d in range(1, 11, 1):\n",
    "        model = svm.SVC(kernel=\"poly\", degree=d, decision_function_shape=\"ovo\")\n",
    "        acu_train, acu_test, recall = svc_model(model)\n",
    "        result[\"degree\"].append(d)\n",
    "        result[\"acu_train\"].append(acu_train)\n",
    "        result[\"acu_test\"].append(acu_test)\n",
    "        result[\"recall\"].append(recall)\n",
    "    df = pd.DataFrame(result)\n",
    "    return df\n",
    "    \n",
    "test_degree()"
   ]
  },
  {
   "cell_type": "code",
   "execution_count": 40,
   "metadata": {},
   "outputs": [
    {
     "data": {
      "text/html": [
       "<div>\n",
       "<style scoped>\n",
       "    .dataframe tbody tr th:only-of-type {\n",
       "        vertical-align: middle;\n",
       "    }\n",
       "\n",
       "    .dataframe tbody tr th {\n",
       "        vertical-align: top;\n",
       "    }\n",
       "\n",
       "    .dataframe thead th {\n",
       "        text-align: right;\n",
       "    }\n",
       "</style>\n",
       "<table border=\"1\" class=\"dataframe\">\n",
       "  <thead>\n",
       "    <tr style=\"text-align: right;\">\n",
       "      <th></th>\n",
       "      <th>acu_train</th>\n",
       "      <th>acu_test</th>\n",
       "      <th>recall</th>\n",
       "    </tr>\n",
       "  </thead>\n",
       "  <tbody>\n",
       "    <tr>\n",
       "      <th>Gaussian</th>\n",
       "      <td>0.881101</td>\n",
       "      <td>0.525</td>\n",
       "      <td>0.534406</td>\n",
       "    </tr>\n",
       "    <tr>\n",
       "      <th>Multinomial</th>\n",
       "      <td>0.742178</td>\n",
       "      <td>0.540</td>\n",
       "      <td>0.548558</td>\n",
       "    </tr>\n",
       "    <tr>\n",
       "      <th>Bernoulli</th>\n",
       "      <td>0.857322</td>\n",
       "      <td>0.770</td>\n",
       "      <td>0.775513</td>\n",
       "    </tr>\n",
       "  </tbody>\n",
       "</table>\n",
       "</div>"
      ],
      "text/plain": [
       "             acu_train  acu_test    recall\n",
       "Gaussian      0.881101     0.525  0.534406\n",
       "Multinomial   0.742178     0.540  0.548558\n",
       "Bernoulli     0.857322     0.770  0.775513"
      ]
     },
     "execution_count": 40,
     "metadata": {},
     "output_type": "execute_result"
    }
   ],
   "source": [
    "from sklearn.naive_bayes import GaussianNB\n",
    "from sklearn.naive_bayes import MultinomialNB\n",
    "from sklearn.naive_bayes import BernoulliNB\n",
    "\n",
    "#朴素贝叶斯做多分类\n",
    "gaussian = GaussianNB()\n",
    "multi = MultinomialNB()\n",
    "bernoul = BernoulliNB()\n",
    "models = [gaussian,multi, bernoul]\n",
    "\n",
    "def svc_model(model):\n",
    "    model.fit(X_train, y_train)\n",
    "    acu_train = model.score(X_train, y_train)\n",
    "    acu_test = model.score(X_test, y_test)\n",
    "    y_pred = model.predict(X_test)\n",
    "    recall = recall_score(y_test, y_pred, average=\"macro\")\n",
    "    return acu_train, acu_test, recall\n",
    "\n",
    "result = {\n",
    "          \"acu_train\": [],\n",
    "          \"acu_test\": [],\n",
    "          \"recall\": []\n",
    "          }\n",
    "for each in models:\n",
    "    acu_train, acu_test, recall = svc_model(each)\n",
    "    result[\"acu_train\"].append(acu_train)\n",
    "    result[\"acu_test\"].append(acu_test)\n",
    "    result[\"recall\"].append(recall)\n",
    "result = pd.DataFrame(result)\n",
    "new_col = ['Gaussian', 'Multinomial', 'Bernoulli']\n",
    "result.index = new_col\n",
    "result"
   ]
  },
  {
   "cell_type": "code",
   "execution_count": 46,
   "metadata": {},
   "outputs": [
    {
     "ename": "ModuleNotFoundError",
     "evalue": "No module named 'xgboost'",
     "output_type": "error",
     "traceback": [
      "\u001b[1;31m---------------------------------------------------------------------------\u001b[0m",
      "\u001b[1;31mModuleNotFoundError\u001b[0m                       Traceback (most recent call last)",
      "\u001b[1;32m<ipython-input-46-9642785ef776>\u001b[0m in \u001b[0;36m<module>\u001b[1;34m\u001b[0m\n\u001b[0;32m      1\u001b[0m \u001b[1;31m## Xgboost训练模型\u001b[0m\u001b[1;33m\u001b[0m\u001b[1;33m\u001b[0m\u001b[1;33m\u001b[0m\u001b[0m\n\u001b[1;32m----> 2\u001b[1;33m \u001b[1;32mimport\u001b[0m \u001b[0mxgboost\u001b[0m \u001b[1;32mas\u001b[0m \u001b[0mxgb\u001b[0m\u001b[1;33m\u001b[0m\u001b[1;33m\u001b[0m\u001b[0m\n\u001b[0m\u001b[0;32m      3\u001b[0m \u001b[1;32mfrom\u001b[0m \u001b[0mxgboost\u001b[0m \u001b[1;32mimport\u001b[0m \u001b[0mplot_importance\u001b[0m\u001b[1;33m\u001b[0m\u001b[1;33m\u001b[0m\u001b[0m\n\u001b[0;32m      4\u001b[0m \u001b[1;33m\u001b[0m\u001b[0m\n\u001b[0;32m      5\u001b[0m \u001b[1;31m#模型参数\u001b[0m\u001b[1;33m\u001b[0m\u001b[1;33m\u001b[0m\u001b[1;33m\u001b[0m\u001b[0m\n",
      "\u001b[1;31mModuleNotFoundError\u001b[0m: No module named 'xgboost'"
     ]
    }
   ],
   "source": [
    "## Xgboost训练模型\n",
    "import xgboost as xgb\n",
    "from xgboost import plot_importance\n",
    "\n",
    "#模型参数\n",
    "param_dict = {'n_estimators':range(50,500,10),\n",
    "              'max_depth':range(2,15,1),\n",
    "              'learning_rate':np.linspace(0.01,2,20),\n",
    "              'subsample':np.linspace(0.6,0.9,20),\n",
    "              'colsample_bytree':np.linspace(0.5,0.98,10),\n",
    "              'min_child_weight':range(1,9,1),\n",
    "              'gamma':[i/10.0 for i in range(0,5)],\n",
    "              'colsample_bytree':np.linspace(0.6,0.9,20),\n",
    "              'reg_alpha':[1e-5, 1e-2, 0.1, 1, 100]\n",
    "             }\n",
    "gsearch2 = RandomizedSearchCV(xgb.XGBClassifier(random_state=2050),\n",
    "                              param_dict,\n",
    "                              n_iter=20,\n",
    "                              cv=5,\n",
    "                              n_jobs=-1)"
   ]
  },
  {
   "cell_type": "code",
   "execution_count": 49,
   "metadata": {},
   "outputs": [
    {
     "name": "stdout",
     "output_type": "stream",
     "text": [
      "Looking in indexes: https://pypi.mirrors.ustc.edu.cn/simple/\n",
      "Note: you may need to restart the kernel to use updated packages.\n"
     ]
    },
    {
     "name": "stderr",
     "output_type": "stream",
     "text": [
      "WARNING: Retrying (Retry(total=4, connect=None, read=None, redirect=None, status=None)) after connection broken by 'ProxyError('Cannot connect to proxy.', timeout('_ssl.c:1106: The handshake operation timed out'))': /simple/xgboost/\n",
      "WARNING: Retrying (Retry(total=3, connect=None, read=None, redirect=None, status=None)) after connection broken by 'ProxyError('Cannot connect to proxy.', timeout('_ssl.c:1106: The handshake operation timed out'))': /simple/xgboost/\n",
      "WARNING: Retrying (Retry(total=2, connect=None, read=None, redirect=None, status=None)) after connection broken by 'ProxyError('Cannot connect to proxy.', timeout('_ssl.c:1106: The handshake operation timed out'))': /simple/xgboost/\n",
      "WARNING: Retrying (Retry(total=1, connect=None, read=None, redirect=None, status=None)) after connection broken by 'ProxyError('Cannot connect to proxy.', timeout('_ssl.c:1106: The handshake operation timed out'))': /simple/xgboost/\n",
      "WARNING: Retrying (Retry(total=0, connect=None, read=None, redirect=None, status=None)) after connection broken by 'ProxyError('Cannot connect to proxy.', timeout('_ssl.c:1106: The handshake operation timed out'))': /simple/xgboost/\n",
      "ERROR: Could not find a version that satisfies the requirement xgboost\n",
      "ERROR: No matching distribution found for xgboost\n"
     ]
    }
   ],
   "source": [
    "pip install xgboost --index https://pypi.mirrors.ustc.edu.cn/simple/"
   ]
  },
  {
   "cell_type": "code",
   "execution_count": null,
   "metadata": {},
   "outputs": [],
   "source": [
    "#在训练集上训练\n",
    "gsearch2.fit(X_train,y_train,)\n",
    "print(f'best params:{gsearch2.best_params_}')\n",
    "# 返回准确率\n",
    "print('best accuracy:%f' % gsearch2.best_score_)\n",
    "# 返回最佳训练器\n",
    "best_estimator = gsearch2.best_estimator_\n",
    "print(best_estimator)"
   ]
  },
  {
   "cell_type": "code",
   "execution_count": null,
   "metadata": {},
   "outputs": [],
   "source": [
    "#对训练集进行交叉验证\n",
    "scores = cross_val_score(best_estimator, X_train, y_train, cv=5)\n",
    "print(scores)\n",
    "print(\"Accuracy: %0.2f (+/- %0.2f)\" % (scores.mean(), scores.std() * 2))\n",
    "#对测试集测试\n",
    "best_estimator.fit(X_train,y_train)\n",
    "y_pred=best_estimator.predict(X_test)\n",
    "print(\"Accuracy:\",metrics.accuracy_score(y_test, y_pred))"
   ]
  },
  {
   "cell_type": "code",
   "execution_count": null,
   "metadata": {},
   "outputs": [],
   "source": []
  },
  {
   "cell_type": "markdown",
   "metadata": {},
   "source": [
    "# 模型评估"
   ]
  },
  {
   "cell_type": "code",
   "execution_count": 23,
   "metadata": {},
   "outputs": [
    {
     "name": "stdout",
     "output_type": "stream",
     "text": [
      "              precision    recall  f1-score   support\n",
      "\n",
      "          CR       0.86      1.00      0.92        37\n",
      "          FJ       0.86      0.79      0.83        39\n",
      "          JK       0.98      1.00      0.99        41\n",
      "          JZ       0.85      0.87      0.86        45\n",
      "          XR       1.00      0.87      0.93        38\n",
      "\n",
      "    accuracy                           0.91       200\n",
      "   macro avg       0.91      0.91      0.91       200\n",
      "weighted avg       0.91      0.91      0.90       200\n",
      "\n"
     ]
    }
   ],
   "source": [
    "#混淆矩阵\n",
    "print(classification_report(y_test, y_pred))"
   ]
  },
  {
   "cell_type": "code",
   "execution_count": 24,
   "metadata": {},
   "outputs": [
    {
     "data": {
      "text/plain": [
       "array([[37,  1,  0,  4,  1],\n",
       "       [ 0, 31,  0,  2,  3],\n",
       "       [ 0,  1, 41,  0,  0],\n",
       "       [ 0,  6,  0, 39,  1],\n",
       "       [ 0,  0,  0,  0, 33]], dtype=int64)"
      ]
     },
     "execution_count": 24,
     "metadata": {},
     "output_type": "execute_result"
    }
   ],
   "source": [
    "array_confusion = metrics.confusion_matrix(y_test, y_pred)\n",
    "cm = array_confusion\n",
    "array_confusion = array_confusion.T\n",
    "array_confusion"
   ]
  },
  {
   "cell_type": "code",
   "execution_count": 26,
   "metadata": {},
   "outputs": [
    {
     "data": {
      "image/png": "[encoded data removed]",
      "text/plain": [
       "<Figure size 432x288 with 2 Axes>"
      ]
     },
     "metadata": {
      "needs_background": "light"
     },
     "output_type": "display_data"
    }
   ],
   "source": [
    "#绘制混淆矩阵图\n",
    "# disp = metrics.plot_confusion_matrix(gsearch1, X_test, y_test)\n",
    "# disp.figure_.suptitle(\"Confusion Matrix\")\n",
    "# print(\"Confusion matrix:\\n%s\" % disp.confusion_matrix)\n",
    "\n",
    "def plot_confusion_matrix(cm,labels,title='Confusion Matrix'):\n",
    "    ind_array = np.arange(len(labels))\n",
    "    x, y = np.meshgrid(ind_array, ind_array)\n",
    "    plt.imshow(cm, interpolation='nearest')\n",
    "    plt.title(title)\n",
    "    plt.colorbar()\n",
    "    xlocations = np.array(range(len(labels)))\n",
    "    plt.xticks(xlocations, labels, rotation=90)\n",
    "    plt.yticks(xlocations, labels)\n",
    "    plt.ylabel('True label')\n",
    "    plt.xlabel('Predicted label')\n",
    "    for x_val, y_val in zip(x.flatten(), y.flatten()):\n",
    "        c = cm[y_val][x_val]\n",
    "        plt.text(x_val, y_val, \"%0.2f\" % (c,), color='red', fontsize=7, va='center', ha='center')\n",
    "\n",
    "labels = ['CR','FJ','JK','JZ','XR'] #五分类\n",
    "# labels = ['JK','JZ','CR'] #三分类\n",
    "plot_confusion_matrix(cm,labels)"
   ]
  },
  {
   "cell_type": "code",
   "execution_count": 48,
   "metadata": {},
   "outputs": [
    {
     "name": "stderr",
     "output_type": "stream",
     "text": [
      "<ipython-input-48-ef0316edeaaf>:26: DeprecationWarning: scipy.interp is deprecated and will be removed in SciPy 2.0.0, use numpy.interp instead\n",
      "  mean_tpr += interp(all_fpr, fpr[i], tpr[i])\n"
     ]
    },
    {
     "data": {
      "image/png": "[encoded data removed]",
      "text/plain": [
       "<Figure size 432x288 with 1 Axes>"
      ]
     },
     "metadata": {
      "needs_background": "light"
     },
     "output_type": "display_data"
    }
   ],
   "source": [
    "classe = [\"JK\",\"XR\",\"FJ\",\"JZ\",\"CR\"]\n",
    "y_test = label_binarize(y_test, classes=[\"JK\",\"XR\",\"FJ\",\"JZ\",\"CR\"])\n",
    "\n",
    "# 设置种类\n",
    "n_classes = y_test.shape[1]\n",
    "y_score = y_test_pred\n",
    "\n",
    "# 计算每一类的ROC\n",
    "fpr = dict()\n",
    "tpr = dict()\n",
    "roc_auc = dict()\n",
    "for i in range(n_classes):\n",
    "    fpr[i], tpr[i], _ = roc_curve(y_test[:, i], y_score[:, i])\n",
    "    roc_auc[i] = auc(fpr[i], tpr[i])\n",
    "\n",
    "# Compute micro-average ROC curve and ROC area（方法二）\n",
    "fpr[\"micro\"], tpr[\"micro\"], _ = roc_curve(y_test.ravel(), y_score.ravel())\n",
    "roc_auc[\"micro\"] = auc(fpr[\"micro\"], tpr[\"micro\"])\n",
    "\n",
    "# Compute macro-average ROC curve and ROC area（方法一）\n",
    "# First aggregate all false positive rates\n",
    "all_fpr = np.unique(np.concatenate([fpr[i] for i in range(n_classes)]))\n",
    "# Then interpolate all ROC curves at this points\n",
    "mean_tpr = np.zeros_like(all_fpr)\n",
    "for i in range(n_classes):\n",
    "    mean_tpr += interp(all_fpr, fpr[i], tpr[i])\n",
    "# Finally average it and compute AUC\n",
    "mean_tpr /= n_classes\n",
    "fpr[\"macro\"] = all_fpr\n",
    "tpr[\"macro\"] = mean_tpr\n",
    "roc_auc[\"macro\"] = auc(fpr[\"macro\"], tpr[\"macro\"])\n",
    "\n",
    "# Plot all ROC curves\n",
    "lw=2\n",
    "plt.figure()\n",
    "plt.plot(fpr[\"micro\"], tpr[\"micro\"],\n",
    "         label='micro-average ROC curve (area = {0:0.2f})'\n",
    "               ''.format(roc_auc[\"micro\"]),\n",
    "         color='deeppink', linestyle=':', linewidth=4)\n",
    "\n",
    "plt.plot(fpr[\"macro\"], tpr[\"macro\"],\n",
    "         label='macro-average ROC curve (area = {0:0.2f})'\n",
    "               ''.format(roc_auc[\"macro\"]),\n",
    "         color='navy', linestyle=':', linewidth=4)\n",
    "\n",
    "colors = cycle(['aqua', 'darkorange', 'cornflowerblue',\"red\",'blue'])\n",
    "for i, color in zip(range(n_classes), colors):\n",
    "    plt.plot(fpr[i], tpr[i], color=color, lw=lw,\n",
    "             label='ROC curve of class {0} (area = {1:0.2f})'\n",
    "             ''.format(classe[i], roc_auc[i]))\n",
    "\n",
    "plt.plot([0, 1], [0, 1], 'k--', lw=lw)\n",
    "plt.xlim([0.0, 1.0])\n",
    "plt.ylim([0.0, 1.05])\n",
    "plt.xlabel('False Positive Rate')\n",
    "plt.ylabel('True Positive Rate')\n",
    "plt.title('Some extension of Receiver operating characteristic to multi-class')\n",
    "plt.legend(loc=\"lower right\")\n",
    "plt.show()"
   ]
  },
  {
   "cell_type": "code",
   "execution_count": 27,
   "metadata": {},
   "outputs": [
    {
     "name": "stdout",
     "output_type": "stream",
     "text": [
      "肠癌的灵敏度为：1.00\n",
      "肠癌的特异性为：0.96\n"
     ]
    }
   ],
   "source": [
    "TP_0 = array_confusion[0,0]\n",
    "FP_0 = sum(array_confusion[0,1:5])\n",
    "FN_0 = sum(array_confusion[1:5,0])\n",
    "TN_0 = sum(array_confusion[1,1:5]+array_confusion[2,1:5]+array_confusion[3,1:5]+array_confusion[4,1:5])-FN_0\n",
    "# 输出肠癌的灵敏度和特异性\n",
    "print('肠癌的灵敏度为：%.2f'%(TP_0/(TP_0+FN_0)))\n",
    "print('肠癌的特异性为：%.2f'%(TN_0/(FP_0+TN_0)))"
   ]
  },
  {
   "cell_type": "code",
   "execution_count": 28,
   "metadata": {},
   "outputs": [
    {
     "name": "stdout",
     "output_type": "stream",
     "text": [
      "非进展的灵敏度为：0.79\n",
      "非进展的特异性为：0.97\n"
     ]
    }
   ],
   "source": [
    "TP_1 = array_confusion[1,1]\n",
    "FP_1 = array_confusion[1,0]+sum(array_confusion[1,2:5])\n",
    "FN_1 = array_confusion[0,1]+sum(array_confusion[2:5,1])\n",
    "TN_1 = sum(array_confusion[0,:5])+sum(array_confusion[2,:5])+sum(array_confusion[3,:5])+sum(array_confusion[4,:5])-FN_1\n",
    "# 输出非进展的灵敏度和特异性\n",
    "print('非进展的灵敏度为：%.2f'%(TP_1/(TP_1+FN_1)))\n",
    "print('非进展的特异性为：%.2f'%(TN_1/(TN_1+FP_1)))"
   ]
  },
  {
   "cell_type": "code",
   "execution_count": 29,
   "metadata": {},
   "outputs": [
    {
     "name": "stdout",
     "output_type": "stream",
     "text": [
      "健康的灵敏度为：1.00\n",
      "健康的特异性为：0.99\n"
     ]
    }
   ],
   "source": [
    "TP_1 = array_confusion[2,2]\n",
    "FP_1 = sum(array_confusion[2,0:2])+sum(array_confusion[2,3:5])\n",
    "FN_1 = sum(array_confusion[0:2,2])+sum(array_confusion[3:5,2])\n",
    "TN_1 = sum(array_confusion[0,])+sum(array_confusion[1,])+sum(array_confusion[3,])+sum(array_confusion[4,])-FN_1\n",
    "# 输出健康的灵敏度和特异性\n",
    "print('健康的灵敏度为：%.2f'%(TP_1/(TP_1+FN_1)))\n",
    "print('健康的特异性为：%.2f'%(TN_1/(TN_1+FP_1)))"
   ]
  },
  {
   "cell_type": "code",
   "execution_count": 30,
   "metadata": {},
   "outputs": [
    {
     "name": "stdout",
     "output_type": "stream",
     "text": [
      "进展的灵敏度为：0.87\n",
      "进展的特异性为：0.95\n"
     ]
    }
   ],
   "source": [
    "TP_1 = array_confusion[3,3]\n",
    "FP_1 = sum(array_confusion[3,0:3])+sum(array_confusion[3,4:5])\n",
    "FN_1 = sum(array_confusion[0:3,3])+sum(array_confusion[4:5,3])\n",
    "TN_1 = sum(array_confusion[0,])+sum(array_confusion[1,])+sum(array_confusion[2,])+sum(array_confusion[4,])-FN_1\n",
    "# 输出进展的灵敏度和特异性\n",
    "print('进展的灵敏度为：%.2f'%(TP_1/(TP_1+FN_1)))\n",
    "print('进展的特异性为：%.2f'%(TN_1/(TN_1+FP_1)))"
   ]
  },
  {
   "cell_type": "code",
   "execution_count": 31,
   "metadata": {},
   "outputs": [
    {
     "name": "stdout",
     "output_type": "stream",
     "text": [
      "息肉的灵敏度为：0.87\n",
      "息肉的特异性为：1.00\n"
     ]
    }
   ],
   "source": [
    "TP_1 = array_confusion[4,4]\n",
    "FP_1 = sum(array_confusion[4,0:4])\n",
    "FN_1 = sum(array_confusion[0:4,4])\n",
    "TN_1 = sum(array_confusion[0,])+sum(array_confusion[1,])+sum(array_confusion[2,])+sum(array_confusion[3,])-FN_1\n",
    "# 输出息肉的灵敏度和特异性\n",
    "print('息肉的灵敏度为：%.2f'%(TP_1/(TP_1+FN_1)))\n",
    "print('息肉的特异性为：%.2f'%(TN_1/(TN_1+FP_1)))"
   ]
  },
  {
   "cell_type": "code",
   "execution_count": null,
   "metadata": {},
   "outputs": [],
   "source": []
  }
 ],
 "metadata": {
  "kernelspec": {
   "display_name": "Python 3",
   "language": "python",
   "name": "python3"
  },
  "language_info": {
   "codemirror_mode": {
    "name": "ipython",
    "version": 3
   },
   "file_extension": ".py",
   "mimetype": "text/x-python",
   "name": "python",
   "nbconvert_exporter": "python",
   "pygments_lexer": "ipython3",
   "version": "3.8.5"
  }
 },
 "nbformat": 4,
 "nbformat_minor": 4
}
